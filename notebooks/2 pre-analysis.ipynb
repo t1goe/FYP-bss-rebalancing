{
 "cells": [
  {
   "cell_type": "markdown",
   "id": "dominican-constitution",
   "metadata": {},
   "source": [
    "# Project notebook"
   ]
  },
  {
   "cell_type": "markdown",
   "id": "brilliant-drawing",
   "metadata": {},
   "source": [
    "The imports for the project"
   ]
  },
  {
   "cell_type": "code",
   "execution_count": 2,
   "id": "found-shape",
   "metadata": {},
   "outputs": [],
   "source": [
    "import pandas\n",
    "import matplotlib.pyplot as plt\n",
    "import math\n",
    "import os\n",
    "import numpy as np\n",
    "from tqdm import tqdm\n",
    "\n",
    "# import data_preprocessing\n",
    "\n",
    "import warnings"
   ]
  },
  {
   "cell_type": "markdown",
   "id": "parental-button",
   "metadata": {},
   "source": [
    "Function to convert the time in the TIME field to an int representing when in the day it is. And a function to extract the date only from the TIME field.\n",
    "\n",
    "average_day() takes the station number to plot, and then calculates the average population of the station over the course of a day"
   ]
  },
  {
   "cell_type": "code",
   "execution_count": 3,
   "id": "informational-terminal",
   "metadata": {},
   "outputs": [],
   "source": [
    "def extract_date(x):\n",
    "    return x.split(' ')[0]\n",
    "\n",
    "\n",
    "def extract_year(x):\n",
    "    return x.split(' ')[0].split('-')[0]\n",
    "\n",
    "\n",
    "def plot_average_day(station, year=0):\n",
    "    \"\"\"\n",
    "    Plots the average population of a station over time\n",
    "    (so the average of a station at a certain time of day)\n",
    "    \"\"\"\n",
    "    filename = '../datasets/bss/dublin/reorg/station_' + str(station) + '.csv'\n",
    "\n",
    "    if not os.path.exists(filename):\n",
    "        print(\"Station file \" + str(station) + \" does not exist\")\n",
    "        return\n",
    "\n",
    "    dataset = pandas.read_csv(filename, usecols=['TIME', 'AVAILABLE BIKES', 'int_time'])\n",
    "    dataset['DATE'] = dataset['TIME'].apply(lambda x: extract_date(x))\n",
    "    dataset['YEAR'] = dataset['TIME'].apply(lambda x: extract_year(x))\n",
    "\n",
    "    # Calculating average pop at all times during the day\n",
    "\n",
    "    time_total = {}\n",
    "    time_count = {}\n",
    "\n",
    "    times = dataset['int_time'].unique()\n",
    "    times.sort()\n",
    "\n",
    "    # fill dict\n",
    "    for time in times:\n",
    "        time_total[time] = 0\n",
    "        time_count[time] = 0\n",
    "\n",
    "    if year != 0:\n",
    "        dataset = dataset.loc[dataset['YEAR'] == str(year)]\n",
    "        if len(dataset) == 0:\n",
    "            print(\"No data exists for \" + str(year))\n",
    "            return\n",
    "\n",
    "    for i, row in dataset.iterrows():\n",
    "        time_total[row['int_time']] = time_total[row['int_time']] + row['AVAILABLE BIKES']\n",
    "        time_count[row['int_time']] = time_count[row['int_time']] + 1\n",
    "\n",
    "    averages = [x / y for x, y in zip(time_total.values(), time_count.values())]\n",
    "\n",
    "    label = 'S' + str(station)\n",
    "    if year != 0:\n",
    "        label = label + ',' + str(year)\n",
    "\n",
    "    plt.plot(times, averages, label=label)\n",
    "\n",
    "\n",
    "def show_average_day_plot():\n",
    "    plt.xlabel('Time')\n",
    "    plt.ylabel('Available bikes')\n",
    "\n",
    "    x = [0, 48, 96, 144, 192, 240, 288]\n",
    "    labels = ['00:00', '04:00', '08:00', '12:00', '16:00', '20:00', '24:00']\n",
    "    plt.xticks(x, labels)\n",
    "    \n",
    "    #Comment this out to disable legend\n",
    "    plt.legend()\n",
    "    \n",
    "    plt.show()"
   ]
  },
  {
   "cell_type": "markdown",
   "id": "female-scholarship",
   "metadata": {},
   "source": [
    "Calls average_day() on a station CSV and opens the graph"
   ]
  },
  {
   "cell_type": "code",
   "execution_count": null,
   "id": "stopped-despite",
   "metadata": {},
   "outputs": [
    {
     "name": "stderr",
     "output_type": "stream",
     "text": [
      " 25%|█████████████████████                                                               | 1/4 [00:49<02:28, 49.43s/it]"
     ]
    }
   ],
   "source": [
    "###This code plots ALL stations on the same graph\n",
    "# stations = pandas.read_csv(\"./datasets/bss/dublin/dublin.csv\", usecols=[\"Number\"])\n",
    "# for station in stations['Number']:\n",
    "#     plot_average_day(station)\n",
    "\n",
    "###This code plots all stations in the range (2-5) inclusive\n",
    "for x in tqdm(range(2, 6)):\n",
    "    plot_average_day(x)\n",
    "\n",
    "###This code plots the average population for a given station in 2018, 2019 and 2020 respectively\n",
    "# station = 3\n",
    "# plot_average_day(station, 2018)\n",
    "# plot_average_day(station, 2019)\n",
    "# plot_average_day(station, 2020)\n",
    "\n",
    "show_average_day_plot()"
   ]
  },
  {
   "cell_type": "markdown",
   "id": "driven-maker",
   "metadata": {},
   "source": [
    "### Evaluating the impact of 2020 on the dataset"
   ]
  },
  {
   "cell_type": "markdown",
   "id": "desirable-bunny",
   "metadata": {},
   "source": [
    "Thanks to the pandemic, 2020 has been a very unique year in all aspects of life, including affecting the useage of BSSs. To combat this, I must analyse the impact 2020 has on the dataset in question."
   ]
  },
  {
   "cell_type": "code",
   "execution_count": null,
   "id": "innovative-portfolio",
   "metadata": {},
   "outputs": [],
   "source": [
    "#Ormond Quay Upper\n",
    "station = 29\n",
    "years = [2018, 2019, 2020]\n",
    "for year in years:\n",
    "    plot_average_day(station, year)\n",
    "\n",
    "show_average_day_plot()"
   ]
  },
  {
   "cell_type": "code",
   "execution_count": null,
   "id": "amazing-hopkins",
   "metadata": {},
   "outputs": [],
   "source": [
    "#Leinster Street South\n",
    "station = 21\n",
    "years = [2018, 2019, 2020]\n",
    "for year in years:\n",
    "    plot_average_day(station, year)\n",
    "\n",
    "show_average_day_plot()"
   ]
  },
  {
   "cell_type": "markdown",
   "id": "standing-cutting",
   "metadata": {},
   "source": [
    "As seen here the averages for 2020 are different to trends from the previous two years, (generally being a less volatile graph overall). The following code quantifys the average difference between 2018/2019 and 2020."
   ]
  },
  {
   "cell_type": "code",
   "execution_count": null,
   "id": "yellow-pleasure",
   "metadata": {},
   "outputs": [],
   "source": [
    "#Blessington Street\n",
    "station = 2\n",
    "years = [2018, 2019, 2020]\n",
    "for year in years:\n",
    "    plot_average_day(station, year)\n",
    "\n",
    "show_average_day_plot()"
   ]
  },
  {
   "cell_type": "code",
   "execution_count": null,
   "id": "photographic-enhancement",
   "metadata": {},
   "outputs": [],
   "source": [
    "#Greek Street\n",
    "station = 4\n",
    "years = [2018, 2019, 2020]\n",
    "for year in years:\n",
    "    plot_average_day(station, year)\n",
    "\n",
    "show_average_day_plot()"
   ]
  },
  {
   "cell_type": "code",
   "execution_count": null,
   "id": "conventional-athletics",
   "metadata": {},
   "outputs": [],
   "source": [
    "def average_dif_2020(station):    \n",
    "    \"\"\"\n",
    "    Plots the average difference of a station over time between pandemic\n",
    "    and non-pandemic times\n",
    "    \"\"\"\n",
    "    filename = '../datasets/bss/dublin/reorg/station_' + str(station) + '.csv'\n",
    "\n",
    "    if not os.path.exists(filename):\n",
    "        print(\"Station file \" + str(station) + \" does not exist\")\n",
    "        return 0\n",
    "\n",
    "    dataset = pandas.read_csv(filename, usecols=['TIME', 'AVAILABLE BIKES', 'int_time'])\n",
    "#     dataset['INT_TIME'] = dataset['TIME'].apply(lambda x: convert_time(x))\n",
    "    dataset['DATE'] = dataset['TIME'].apply(lambda x: extract_date(x))\n",
    "    dataset['YEAR'] = dataset['TIME'].apply(lambda x: extract_year(x))\n",
    "\n",
    "    # Calculating average pop at all times during the day\n",
    "\n",
    "    time_total = {}\n",
    "    time_count = {}\n",
    "\n",
    "    times = dataset['int_time'].unique()\n",
    "    times.sort()\n",
    "\n",
    "    # fill dict\n",
    "    for time in times:\n",
    "        time_total[time] = 0\n",
    "        time_count[time] = 0\n",
    "\n",
    "    dataset2020 = dataset.loc[dataset['YEAR'] == str(2020)]\n",
    "\n",
    "    for i, row in dataset2020.iterrows():\n",
    "        time_total[row['int_time']] = time_total[row['int_time']] + row['AVAILABLE BIKES']\n",
    "        time_count[row['int_time']] = time_count[row['int_time']] + 1\n",
    "\n",
    "    averages_2020 = [x / y for x, y in zip(time_total.values(), time_count.values())]\n",
    "\n",
    "    for time in times:\n",
    "        time_total[time] = 0\n",
    "        time_count[time] = 0\n",
    "\n",
    "    dataset_norm = dataset.loc[dataset['YEAR'] != str(2020)]\n",
    "\n",
    "    for i, row in dataset_norm.iterrows():\n",
    "        time_total[row['int_time']] = time_total[row['int_time']] + row['AVAILABLE BIKES']\n",
    "        time_count[row['int_time']] = time_count[row['int_time']] + 1\n",
    "\n",
    "    averages_norm = [x / y for x, y in zip(time_total.values(), time_count.values())]\n",
    "\n",
    "    differences = [x - y for x, y in zip(averages_2020, averages_norm)]\n",
    "\n",
    "    differences = [abs(x) for x in differences]\n",
    "\n",
    "    return sum(differences)/len(differences)"
   ]
  },
  {
   "cell_type": "code",
   "execution_count": null,
   "id": "brief-viewer",
   "metadata": {},
   "outputs": [],
   "source": [
    "averages = []\n",
    "\n",
    "stations = range(2, 80)\n",
    "\n",
    "for station in tqdm(stations):\n",
    "#     print(station)\n",
    "    averages.append(average_dif_2020(station))\n"
   ]
  },
  {
   "cell_type": "markdown",
   "id": "dirty-questionnaire",
   "metadata": {},
   "source": [
    "This code shows the average population difference for a station between its 2020 and 2018/2019 graphs."
   ]
  },
  {
   "cell_type": "code",
   "execution_count": null,
   "id": "processed-offense",
   "metadata": {},
   "outputs": [],
   "source": [
    "y_pos = np.arange(len(stations))\n",
    "\n",
    "plt.bar(y_pos, averages, align='center', alpha=0.5)\n",
    "plt.xticks(y_pos, stations)\n",
    "plt.ylabel('Average pop difference')\n",
    "\n",
    "plt.show()"
   ]
  },
  {
   "cell_type": "markdown",
   "id": "armed-emphasis",
   "metadata": {},
   "source": [
    "# Weather impact"
   ]
  },
  {
   "cell_type": "code",
   "execution_count": null,
   "id": "aging-facility",
   "metadata": {},
   "outputs": [],
   "source": [
    "def plot_average_day_from_dataset(data, label=None):\n",
    "    # Calculating average pop at all times during the day\n",
    "\n",
    "    time_total = {}\n",
    "    time_count = {}\n",
    "\n",
    "    times = data['int_time'].unique()\n",
    "    times.sort()\n",
    "\n",
    "    # fill dict\n",
    "    for time in times:\n",
    "        time_total[time] = 0\n",
    "        time_count[time] = 0\n",
    "\n",
    "    for i, row in data.iterrows():\n",
    "        time_total[row['int_time']] = time_total[row['int_time']] + row['AVAILABLE BIKES']\n",
    "        time_count[row['int_time']] = time_count[row['int_time']] + 1\n",
    "\n",
    "    averages = [x / y for x, y in zip(time_total.values(), time_count.values())]\n",
    "\n",
    "    if label is not None:\n",
    "        plt.plot(times, averages, label=label)\n",
    "    else:\n",
    "        plt.plot(times, averages)\n",
    "\n",
    "\n",
    "def show_average_day_plot():\n",
    "    plt.xlabel('Time')\n",
    "    plt.ylabel('Available bikes')\n",
    "\n",
    "    x = [0, 48, 96, 144, 192, 240, 288]\n",
    "    labels = ['00:00', '04:00', '08:00', '12:00', '16:00', '20:00', '24:00']\n",
    "    plt.xticks(x, labels)\n",
    "\n",
    "    # Comment this out to disable legend\n",
    "    plt.legend()\n",
    "\n",
    "    plt.show()\n",
    "\n",
    "\n",
    "def plot_average_day_by_condition(station, \n",
    "                                  rain_threshold = 0.1,\n",
    "                                  temp_threshold = 12,\n",
    "                                  rhum_threshold = 95):\n",
    "    columns = {'rain': rain_threshold,\n",
    "               'temp': temp_threshold,\n",
    "               'rhum': rhum_threshold\n",
    "               }\n",
    "\n",
    "    warnings.filterwarnings(\"ignore\")\n",
    "    filename = '../datasets/bss/dublin/reorg_plus_weather/station_' + str(station) + '.csv'\n",
    "\n",
    "    for col, threshold in columns.items():\n",
    "\n",
    "        dataset = pandas.read_csv(filename).head(150609)\n",
    "        # x = dataset[deciding_column].unique()\n",
    "        # x.sort()\n",
    "        # for d in x:\n",
    "        #     print(d)\n",
    "        # exit(0)\n",
    "\n",
    "        if col == 'rain':\n",
    "            dataset = dataset[dataset[col].str.strip().astype(bool)]\n",
    "\n",
    "        dataset[col] = dataset[col].astype('float64')\n",
    "        above_dataset = dataset.loc[dataset[col] >= threshold]\n",
    "\n",
    "        below_dataset = dataset.loc[dataset[col] < threshold]\n",
    "\n",
    "        plot_average_day_from_dataset(above_dataset, label=col + \" >= \" + str(threshold))\n",
    "        plot_average_day_from_dataset(below_dataset, label=col + \" < \" + str(threshold))\n",
    "\n",
    "        show_average_day_plot()"
   ]
  },
  {
   "cell_type": "markdown",
   "id": "prescribed-background",
   "metadata": {},
   "source": [
    "Removed 2020 from the dataset to remove it's effect"
   ]
  },
  {
   "cell_type": "code",
   "execution_count": null,
   "id": "upper-location",
   "metadata": {},
   "outputs": [],
   "source": [
    "plot_average_day_by_condition(2)"
   ]
  },
  {
   "cell_type": "code",
   "execution_count": null,
   "id": "continent-external",
   "metadata": {},
   "outputs": [],
   "source": [
    "plot_average_day_by_condition(21)"
   ]
  },
  {
   "cell_type": "code",
   "execution_count": null,
   "id": "damaged-climb",
   "metadata": {},
   "outputs": [],
   "source": [
    "plot_average_day_by_condition(47)"
   ]
  },
  {
   "cell_type": "code",
   "execution_count": null,
   "id": "grateful-treatment",
   "metadata": {},
   "outputs": [],
   "source": []
  }
 ],
 "metadata": {
  "kernelspec": {
   "display_name": "Python 3",
   "language": "python",
   "name": "python3"
  },
  "language_info": {
   "codemirror_mode": {
    "name": "ipython",
    "version": 3
   },
   "file_extension": ".py",
   "mimetype": "text/x-python",
   "name": "python",
   "nbconvert_exporter": "python",
   "pygments_lexer": "ipython3",
   "version": "3.9.1"
  }
 },
 "nbformat": 4,
 "nbformat_minor": 5
}
