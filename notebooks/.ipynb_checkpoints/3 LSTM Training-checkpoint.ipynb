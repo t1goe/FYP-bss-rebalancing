{
 "cells": [
  {
   "cell_type": "markdown",
   "id": "dominican-constitution",
   "metadata": {},
   "source": [
    "# LSTM Training"
   ]
  },
  {
   "cell_type": "code",
   "execution_count": 33,
   "id": "contrary-rider",
   "metadata": {},
   "outputs": [],
   "source": [
    "import sys\n",
    "import numpy as np\n",
    "from math import sqrt\n",
    "from numpy import concatenate\n",
    "from matplotlib import pyplot\n",
    "from pandas import read_csv\n",
    "from pandas import DataFrame\n",
    "from pandas import concat\n",
    "from sklearn.preprocessing import MinMaxScaler\n",
    "from sklearn.preprocessing import LabelEncoder\n",
    "from sklearn.metrics import mean_squared_error\n",
    "from sklearn.metrics import mean_absolute_error\n",
    "from sklearn.metrics import r2_score\n",
    "from keras.models import Sequential\n",
    "from keras.layers import Dense\n",
    "from keras.layers import LSTM\n",
    "import os"
   ]
  },
  {
   "cell_type": "code",
   "execution_count": 34,
   "id": "mobile-carolina",
   "metadata": {},
   "outputs": [],
   "source": [
    "# convert series to supervised learning\n",
    "# def series_to_supervised(data, n_in=1, n_out=1, dropnan=True):\n",
    "#     n_vars = 1 if type(data) is list else data.shape[1]\n",
    "#     df = DataFrame(data)\n",
    "#     cols, names = list(), list()\n",
    "#     # input sequence (t-n, ... t-1)\n",
    "#     for i in range(n_in, 0, -1):\n",
    "#         cols.append(df.shift(i))\n",
    "#         names += [('var%d(t-%d)' % (j + 1, i)) for j in range(n_vars)]\n",
    "#     # forecast sequence (t, t+1, ... t+n)\n",
    "#     for i in range(0, n_out):\n",
    "#         cols.append(df.shift(-i))\n",
    "#         if i == 0:\n",
    "#             names += [('var%d(t)' % (j + 1)) for j in range(n_vars)]\n",
    "#         else:\n",
    "#             names += [('var%d(t+%d)' % (j + 1, i)) for j in range(n_vars)]\n",
    "#     # put it all together\n",
    "#     agg = concat(cols, axis=1)\n",
    "#     agg.columns = names\n",
    "#     # drop rows with NaN values\n",
    "#     if dropnan:\n",
    "#         agg.dropna(inplace=True)\n",
    "#     return agg"
   ]
  },
  {
   "cell_type": "code",
   "execution_count": 35,
   "id": "further-binding",
   "metadata": {},
   "outputs": [
    {
     "name": "stdout",
     "output_type": "stream",
     "text": [
      "[[0.         0.5226481  0.58082193 0.5       ]\n",
      " [0.         0.5261324  0.58082193 0.5       ]\n",
      " [0.         0.5296167  0.58082193 0.5       ]\n",
      " ...\n",
      " [0.05       0.9930314  0.         0.8333334 ]\n",
      " [0.05       0.9965157  0.         0.8333334 ]\n",
      " [0.05       1.         0.         0.8333334 ]]\n"
     ]
    }
   ],
   "source": [
    "# load dataset\n",
    "dataset = read_csv('datasets/bss/dublin/reorg/station_2.csv')\n",
    "# dataset = read_csv('datasets/bss/dublin/reorg_plus_weather/station_2.csv')\n",
    "\n",
    "dataset = dataset.drop('TIME', axis=1)\n",
    "# dataset = dataset.drop('date', axis=1)\n",
    "# print(dataset.head())\n",
    "values = dataset.values\n",
    "\n",
    "# ensure all data is float\n",
    "values = values.astype('float32')\n",
    "# normalize features\n",
    "scaler = MinMaxScaler(feature_range=(0, 1))\n",
    "scaled = scaler.fit_transform(values)\n",
    "# frame as supervised learning\n",
    "reframed = scaled\n",
    "\n",
    "print(scaled)"
   ]
  },
  {
   "cell_type": "code",
   "execution_count": 36,
   "id": "genetic-abuse",
   "metadata": {},
   "outputs": [
    {
     "name": "stdout",
     "output_type": "stream",
     "text": [
      "(8760, 1, 3) (8760,) (8927, 1, 3) (8927,)\n"
     ]
    }
   ],
   "source": [
    "# split into train and test sets\n",
    "# values = reframed.values\n",
    "\n",
    "train_start = 0\n",
    "train_end = 8760\n",
    "\n",
    "test_start = 99144\n",
    "test_end = 108071\n",
    "\n",
    "n_train_hours = 365 * 24\n",
    "train = scaled[train_start:train_end, :]\n",
    "test = scaled[test_start:test_end, :]\n",
    "# train = values[train_start:train_end, :]\n",
    "# test = values[test_start:test_end, :]\n",
    "\n",
    "# split into input and outputs\n",
    "train_X, train_y = train[:, 1:], train[:, 1]\n",
    "test_X, test_y = test[:, 1:], test[:, 1]\n",
    "# reshape input to be 3D [samples, timesteps, features]\n",
    "train_X = train_X.reshape((train_X.shape[0], 1, train_X.shape[1]))\n",
    "test_X = test_X.reshape((test_X.shape[0], 1, test_X.shape[1]))\n",
    "print(train_X.shape, train_y.shape, test_X.shape, test_y.shape)"
   ]
  },
  {
   "cell_type": "code",
   "execution_count": 37,
   "id": "responsible-reform",
   "metadata": {},
   "outputs": [
    {
     "name": "stdout",
     "output_type": "stream",
     "text": [
      "Epoch 1/10\n",
      "122/122 [==============================] - 5s 15ms/step - loss: 0.3642 - val_loss: 0.1703\n",
      "Epoch 2/10\n",
      "122/122 [==============================] - 1s 9ms/step - loss: 0.1550 - val_loss: 0.1021\n",
      "Epoch 3/10\n",
      "122/122 [==============================] - 1s 6ms/step - loss: 0.0792 - val_loss: 0.0135\n",
      "Epoch 4/10\n",
      "122/122 [==============================] - 1s 5ms/step - loss: 0.0099 - val_loss: 0.0082\n",
      "Epoch 5/10\n",
      "122/122 [==============================] - 1s 6ms/step - loss: 0.0089 - val_loss: 0.0077\n",
      "Epoch 6/10\n",
      "122/122 [==============================] - 1s 6ms/step - loss: 0.0079 - val_loss: 0.0056\n",
      "Epoch 7/10\n",
      "122/122 [==============================] - 1s 7ms/step - loss: 0.0086 - val_loss: 0.0056 - ETA: 0s - loss: 0.008\n",
      "Epoch 8/10\n",
      "122/122 [==============================] - 1s 7ms/step - loss: 0.0062 - val_loss: 0.0051\n",
      "Epoch 9/10\n",
      "122/122 [==============================] - 1s 6ms/step - loss: 0.0057 - val_loss: 0.0103\n",
      "Epoch 10/10\n",
      "122/122 [==============================] - 1s 6ms/step - loss: 0.0103 - val_loss: 0.0046\n"
     ]
    },
    {
     "data": {
      "image/png": "[encoded data removed]",
      "text/plain": [
       "<Figure size 432x288 with 1 Axes>"
      ]
     },
     "metadata": {
      "needs_background": "light"
     },
     "output_type": "display_data"
    }
   ],
   "source": [
    "# design network\n",
    "model = Sequential()\n",
    "model.add(LSTM(50, input_shape=(train_X.shape[1], train_X.shape[2])))\n",
    "model.add(Dense(1))\n",
    "model.compile(loss='mae', optimizer='adam')\n",
    "# fit network\n",
    "history = model.fit(train_X, train_y,\n",
    "                    epochs=10,\n",
    "                    batch_size=72,\n",
    "                    validation_data=(test_X, test_y),\n",
    "                    verbose=1,\n",
    "                    shuffle=False)\n",
    "# plot history\n",
    "pyplot.plot(history.history['loss'], label='train')\n",
    "pyplot.plot(history.history['val_loss'], label='test')\n",
    "pyplot.legend()\n",
    "pyplot.show()"
   ]
  },
  {
   "cell_type": "code",
   "execution_count": 38,
   "id": "palestinian-maintenance",
   "metadata": {},
   "outputs": [
    {
     "name": "stdout",
     "output_type": "stream",
     "text": [
      "Test MAE: 0.092\n",
      "Test MSE: 0.012\n",
      "Test RMSE: 0.109\n",
      "Test R2: 0.999646585170780976881133028655\n"
     ]
    }
   ],
   "source": [
    "# make a prediction\n",
    "yhat = model.predict(test_X)\n",
    "# print(test_X)\n",
    "# print(yhat)\n",
    "test_X = test_X.reshape((test_X.shape[0], test_X.shape[2]))\n",
    "# invert scaling for forecast\n",
    "inv_yhat = concatenate((yhat, test_X), axis=1)\n",
    "inv_yhat = scaler.inverse_transform(inv_yhat)\n",
    "inv_yhat = inv_yhat[:, 0]\n",
    "# invert scaling for actual\n",
    "test_y = test_y.reshape((len(test_y), 1))\n",
    "inv_y = concatenate((test_y, test_X), axis=1)\n",
    "inv_y = scaler.inverse_transform(inv_y)\n",
    "inv_y = inv_y[:, 0]\n",
    "# calculate RMSE\n",
    "\n",
    "# np.set_printoptions(threshold=sys.maxsize)\n",
    "# temp = concatenate((inv_y, inv_yhat))\n",
    "# print(temp)\n",
    "# print(inv_y)\n",
    "# print(inv_yhat)\n",
    "\n",
    "rmse = sqrt(mean_squared_error(inv_y, inv_yhat))\n",
    "mae = mean_absolute_error(inv_y, inv_yhat)\n",
    "mse = mean_squared_error(inv_y, inv_yhat)\n",
    "r2 = r2_score(inv_y, inv_yhat)\n",
    "print('Test MAE: %.3f' % mae)\n",
    "print('Test MSE: %.3f' % mse)\n",
    "print('Test RMSE: %.3f' % rmse)\n",
    "print('Test R2: %.30f' % r2)\n",
    "\n"
   ]
  }
 ],
 "metadata": {
  "kernelspec": {
   "display_name": "local-venv",
   "language": "python",
   "name": "local-venv"
  },
  "language_info": {
   "codemirror_mode": {
    "name": "ipython",
    "version": 3
   },
   "file_extension": ".py",
   "mimetype": "text/x-python",
   "name": "python",
   "nbconvert_exporter": "python",
   "pygments_lexer": "ipython3",
   "version": "3.8.9"
  }
 },
 "nbformat": 4,
 "nbformat_minor": 5
}
