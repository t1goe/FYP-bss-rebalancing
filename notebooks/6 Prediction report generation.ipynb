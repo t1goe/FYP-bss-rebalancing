{
 "cells": [
  {
   "cell_type": "markdown",
   "id": "dominican-constitution",
   "metadata": {},
   "source": [
    "# Report generation"
   ]
  },
  {
   "cell_type": "code",
   "execution_count": 1,
   "id": "contrary-rider",
   "metadata": {},
   "outputs": [],
   "source": [
    "from datetime import datetime\n",
    "\n",
    "import math\n",
    "import pickle\n",
    "from os import listdir\n",
    "from os.path import isfile, join\n",
    "import os\n",
    "import csv\n",
    "\n",
    "from flask import Flask, render_template, request\n",
    "import tensorflow as tf\n",
    "from tensorflow import keras\n",
    "import copy\n",
    "import numpy as np\n",
    "from sklearn.preprocessing import MinMaxScaler\n",
    "from numpy import concatenate\n",
    "import warnings\n",
    "from tqdm import tqdm"
   ]
  },
  {
   "cell_type": "code",
   "execution_count": 2,
   "id": "attached-directory",
   "metadata": {},
   "outputs": [],
   "source": [
    "def get_station_names():\n",
    "    mypath = '../datasets/bss/dublin/ml_models/'\n",
    "    files = [f for f in listdir(mypath) if isfile(join(mypath, f))]\n",
    "\n",
    "    station_ids = [x.split('.')[0].split('_')[1] for x in files]\n",
    "\n",
    "    output = {}\n",
    "\n",
    "    for sid in station_ids:\n",
    "        csv_file = csv.reader(open('../datasets/bss/dublin/original/dublin.csv', \"r\"), delimiter=\",\")\n",
    "        for row in csv_file:\n",
    "            if sid == row[0]:\n",
    "                output[sid] = row[1]\n",
    "\n",
    "    return output\n",
    "\n",
    "\n",
    "def simple_predict(station_id, int_time, int_date, int_day):\n",
    "    destination_directory = '../datasets/bss/dublin/simple_ml_models/'\n",
    "    scaler_destination_directory = copy.deepcopy(destination_directory) + 'scalers/'\n",
    "\n",
    "    model = tf.keras.models.load_model(destination_directory + 'station_' + str(station_id) + '.h5')\n",
    "\n",
    "    file = open(scaler_destination_directory + 'station_' + str(station_id) + '.pkl', \"rb\")\n",
    "    scaler = pickle.load(file)\n",
    "    file.close()\n",
    "\n",
    "    params = np.array([0, int_time, int_date, int_day])\n",
    "    params = params.reshape(1, -1)\n",
    "    params = scaler.transform(params)\n",
    "    params = np.array([params])\n",
    "    params = params.tolist()\n",
    "    params[0][0].pop(0)\n",
    "    params = np.array(params)\n",
    "\n",
    "    answer = model.predict(params)\n",
    "    full_row = concatenate((answer, params[0]), axis=1)\n",
    "    inv_row = scaler.inverse_transform(full_row)\n",
    "    \n",
    "    return inv_row[0][0]"
   ]
  },
  {
   "cell_type": "code",
   "execution_count": 3,
   "id": "unlimited-jungle",
   "metadata": {},
   "outputs": [
    {
     "name": "stderr",
     "output_type": "stream",
     "text": [
      "100%|██████████████████████████████████████████████████████████████████████████████| 107/107 [1:37:40<00:00, 54.77s/it]\n"
     ]
    }
   ],
   "source": [
    "def generate_report(date=datetime(year=2019, month=8, day=1)):\n",
    "    tf.compat.v1.logging.set_verbosity(tf.compat.v1.logging.ERROR)\n",
    "    destination_directory = '../outputs/date_reports/'\n",
    "    if not os.path.exists(destination_directory):\n",
    "        os.makedirs(destination_directory)\n",
    "    \n",
    "    \n",
    "    with open(destination_directory + date.strftime(\"%Y-%m-%d\") +  '.csv', 'w', newline='') as csvfile:\n",
    "        times = [\"station\"]\n",
    "        for x in range(24):\n",
    "            times.append(str(x) + \":00\")\n",
    "        \n",
    "        writer = csv.DictWriter(csvfile, fieldnames=times)\n",
    "\n",
    "        writer.writeheader()\n",
    "        \n",
    "        stations = get_station_names()\n",
    "        \n",
    "        for sid, name in tqdm(stations.items()):\n",
    "            answers = {\"station\":sid}\n",
    "            for x in range(24):\n",
    "                answers[str(x) + \":00\"] = (\n",
    "                    round(\n",
    "                        simple_predict(\n",
    "                            sid,\n",
    "                            (x * 12),\n",
    "                            date.strftime('%j'),\n",
    "                            date.strftime('%w')\n",
    "                        )\n",
    "                    )\n",
    "                )\n",
    "            writer.writerow(answers)\n",
    "            \n",
    "\n",
    "generate_report(datetime(year=2019, month=12, day=3))"
   ]
  },
  {
   "cell_type": "code",
   "execution_count": null,
   "id": "loving-vertex",
   "metadata": {},
   "outputs": [],
   "source": []
  }
 ],
 "metadata": {
  "kernelspec": {
   "display_name": "local-venv",
   "language": "python",
   "name": "local-venv"
  },
  "language_info": {
   "codemirror_mode": {
    "name": "ipython",
    "version": 3
   },
   "file_extension": ".py",
   "mimetype": "text/x-python",
   "name": "python",
   "nbconvert_exporter": "python",
   "pygments_lexer": "ipython3",
   "version": "3.8.9"
  }
 },
 "nbformat": 4,
 "nbformat_minor": 5
}
