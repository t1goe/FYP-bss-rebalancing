{
 "cells": [
  {
   "cell_type": "markdown",
   "id": "northern-effort",
   "metadata": {},
   "source": [
    "# LSTM Training"
   ]
  },
  {
   "cell_type": "markdown",
   "id": "certain-hotel",
   "metadata": {},
   "source": [
    "The purposes of this is to explore optimization for the model"
   ]
  },
  {
   "cell_type": "code",
   "execution_count": 9,
   "id": "contrary-rider",
   "metadata": {},
   "outputs": [],
   "source": [
    "import sys\n",
    "import numpy as np\n",
    "from math import sqrt\n",
    "from numpy import concatenate\n",
    "from matplotlib import pyplot\n",
    "from pandas import read_csv\n",
    "from pandas import DataFrame\n",
    "from pandas import concat\n",
    "from sklearn.preprocessing import MinMaxScaler\n",
    "from sklearn.preprocessing import LabelEncoder\n",
    "from sklearn.metrics import mean_squared_error\n",
    "from sklearn.metrics import mean_absolute_error\n",
    "from sklearn.metrics import r2_score\n",
    "from keras.models import Sequential\n",
    "from keras.layers import Dense\n",
    "from keras.layers import LSTM\n",
    "import keras\n",
    "from datetime import datetime\n",
    "import warnings"
   ]
  },
  {
   "cell_type": "markdown",
   "id": "minute-president",
   "metadata": {},
   "source": [
    "This is a modified version of the model used to more easily use different combonations "
   ]
  },
  {
   "cell_type": "code",
   "execution_count": 10,
   "id": "mobile-carolina",
   "metadata": {},
   "outputs": [],
   "source": [
    "def get_index_of_date(df, date):\n",
    "    # print(date)\n",
    "    x = df.index[df['DATE'] == str(date).split(' ')[0]].tolist()\n",
    "    if len(x) == 0:\n",
    "        print(\"Date: \" + str(date) + \" not found in dataset\")\n",
    "        exit(1)\n",
    "\n",
    "    return x[0]\n",
    "\n",
    "\n",
    "def train_model(file_location,\n",
    "                train_start_date=datetime(year=2018, month=8, day=1),\n",
    "                train_end_date=datetime(year=2019, month=7, day=30),\n",
    "                test_start_date=datetime(year=2019, month=8, day=1),\n",
    "                test_end_date=datetime(year=2019, month=12, day=31),\n",
    "                cols_to_use=None,\n",
    "                verbose=1\n",
    "                ):\n",
    "    # load dataset\n",
    "    if cols_to_use is None:\n",
    "        cols_to_use = ['int_time', 'int_date', 'int_day']\n",
    "\n",
    "    cols_to_use.insert(0, 'AVAILABLE BIKES')\n",
    "    cols_to_use.insert(0, 'TIME')\n",
    "    dataset = read_csv(file_location, usecols=cols_to_use)\n",
    "    dataset['DATE'] = dataset['TIME'].apply(lambda x: x.split(' ')[0])\n",
    "\n",
    "    if 'rain' in cols_to_use:\n",
    "        dataset = dataset[dataset['rain'].str.strip().astype(bool)]\n",
    "\n",
    "    train_start_index = (get_index_of_date(dataset, train_start_date))\n",
    "    train_end_index = (get_index_of_date(dataset, train_end_date))\n",
    "    # print( train_end_index - train_start_index)\n",
    "\n",
    "    test_start_index = (get_index_of_date(dataset, test_start_date))\n",
    "    test_end_index = (get_index_of_date(dataset, test_end_date))\n",
    "    # print(test_end_index - test_start_index)\n",
    "\n",
    "    dataset = dataset.drop(['TIME', 'DATE'], axis=1)\n",
    "    # print(dataset.head())\n",
    "    # exit(1)\n",
    "    # print(dataset)\n",
    "    values = dataset.values\n",
    "    # print(values.shape)\n",
    "\n",
    "    # ensure all data is float\n",
    "    values = values.astype('float32')\n",
    "    # normalize features\n",
    "    scaler = MinMaxScaler(feature_range=(0, 1))\n",
    "    # print(values.shape)\n",
    "    scaled = scaler.fit_transform(values)\n",
    "    # frame as supervised learning\n",
    "    reframed = scaled\n",
    "\n",
    "    # print(scaled)\n",
    "\n",
    "    # split into train and test sets\n",
    "    # values = reframed.values\n",
    "\n",
    "    train = scaled[train_start_index:train_end_index, :]\n",
    "    test = scaled[test_start_index:test_end_index, :]\n",
    "    # train = values[train_start:train_end, :]\n",
    "    # test = values[test_start:test_end, :]\n",
    "\n",
    "    # split into input and outputs\n",
    "    train_X, train_y = train[:, 1:], train[:, 0]\n",
    "    test_X, test_y = test[:, 1:], test[:, 0]\n",
    "    # reshape input to be 3D [samples, timesteps, features]\n",
    "    train_X = train_X.reshape((train_X.shape[0], 1, train_X.shape[1]))\n",
    "    test_X = test_X.reshape((test_X.shape[0], 1, test_X.shape[1]))\n",
    "    # print(train_X.shape, train_y.shape, test_X.shape, test_y.shape)\n",
    "\n",
    "    # design network\n",
    "    model = Sequential()\n",
    "    model.add(LSTM(50, input_shape=(train_X.shape[1], train_X.shape[2])))\n",
    "    model.add(Dense(1))\n",
    "    model.compile(loss='mae', optimizer='adam')\n",
    "    # fit network\n",
    "    history = model.fit(train_X, train_y,\n",
    "                        epochs=150,\n",
    "                        batch_size=72,\n",
    "                        validation_data=(test_X, test_y),\n",
    "                        verbose=verbose,\n",
    "                        shuffle=False)\n",
    "    # plot history\n",
    "    # pyplot.plot(history.history['loss'], label='train')\n",
    "    # pyplot.plot(history.history['val_loss'], label='test')\n",
    "    # pyplot.legend()\n",
    "    # pyplot.show()\n",
    "\n",
    "    # make a prediction\n",
    "    yhat = model.predict(test_X)\n",
    "    # print(test_X)\n",
    "    # print(yhat)\n",
    "    test_X = test_X.reshape((test_X.shape[0], test_X.shape[2]))\n",
    "    # invert scaling for forecast\n",
    "\n",
    "    inv_yhat = concatenate((yhat, test_X), axis=1)\n",
    "    # print(yhat.shape)\n",
    "    # print(test_X.shape)\n",
    "    # print(inv_yhat.shape)\n",
    "    inv_yhat = scaler.inverse_transform(inv_yhat)\n",
    "    inv_yhat = inv_yhat[:, 0]\n",
    "    # invert scaling for actual\n",
    "    test_y = test_y.reshape((len(test_y), 1))\n",
    "    inv_y = concatenate((test_y, test_X), axis=1)\n",
    "    inv_y = scaler.inverse_transform(inv_y)\n",
    "    inv_y = inv_y[:, 0]\n",
    "    # calculate RMSE\n",
    "\n",
    "    # np.set_printoptions(threshold=sys.maxsize)\n",
    "    # temp = concatenate((inv_y, inv_yhat))\n",
    "    # print(temp)\n",
    "    # print(inv_y)\n",
    "    # print(inv_yhat)\n",
    "\n",
    "    # print()\n",
    "    rmse = sqrt(mean_squared_error(inv_y, inv_yhat))\n",
    "    mae = mean_absolute_error(inv_y, inv_yhat)\n",
    "    mse = mean_squared_error(inv_y, inv_yhat)\n",
    "    r2 = r2_score(inv_y, inv_yhat)\n",
    "    print('Test MAE: %.3f' % mae)\n",
    "    print('Test MSE: %.3f' % mse)\n",
    "    print('Test RMSE: %.3f' % rmse)\n",
    "    print('Test R2: %.30f' % r2)"
   ]
  },
  {
   "cell_type": "code",
   "execution_count": 35,
   "id": "related-whale",
   "metadata": {},
   "outputs": [
    {
     "name": "stdout",
     "output_type": "stream",
     "text": [
      "64\n",
      "['int_time']\n"
     ]
    },
    {
     "name": "stderr",
     "output_type": "stream",
     "text": [
      "c:\\users\\thest\\documents\\github\\fyp-bss-rebalancing\\venv\\lib\\site-packages\\IPython\\core\\interactiveshell.py:3357: DtypeWarning: Columns (6) have mixed types.Specify dtype option on import or set low_memory=False.\n",
      "  if (await self.run_code(code, result,  async_=asy)):\n"
     ]
    },
    {
     "name": "stdout",
     "output_type": "stream",
     "text": [
      "Test MAE: 2.956\n",
      "Test MSE: 16.119\n",
      "Test RMSE: 4.015\n",
      "Test R2: 0.461436363330583465547363175574\n",
      "\n",
      "['int_date']\n"
     ]
    },
    {
     "name": "stderr",
     "output_type": "stream",
     "text": [
      "c:\\users\\thest\\documents\\github\\fyp-bss-rebalancing\\venv\\lib\\site-packages\\IPython\\core\\interactiveshell.py:3357: DtypeWarning: Columns (6) have mixed types.Specify dtype option on import or set low_memory=False.\n",
      "  if (await self.run_code(code, result,  async_=asy)):\n"
     ]
    },
    {
     "name": "stdout",
     "output_type": "stream",
     "text": [
      "Test MAE: 2.977\n",
      "Test MSE: 16.747\n",
      "Test RMSE: 4.092\n",
      "Test R2: 0.440452666545042337276072430541\n",
      "\n",
      "['int_day']\n"
     ]
    },
    {
     "name": "stderr",
     "output_type": "stream",
     "text": [
      "c:\\users\\thest\\documents\\github\\fyp-bss-rebalancing\\venv\\lib\\site-packages\\IPython\\core\\interactiveshell.py:3357: DtypeWarning: Columns (6) have mixed types.Specify dtype option on import or set low_memory=False.\n",
      "  if (await self.run_code(code, result,  async_=asy)):\n"
     ]
    },
    {
     "name": "stdout",
     "output_type": "stream",
     "text": [
      "Test MAE: 2.888\n",
      "Test MSE: 15.754\n",
      "Test RMSE: 3.969\n",
      "Test R2: 0.473625874222083353970447205938\n",
      "\n",
      "['rain']\n"
     ]
    },
    {
     "name": "stderr",
     "output_type": "stream",
     "text": [
      "c:\\users\\thest\\documents\\github\\fyp-bss-rebalancing\\venv\\lib\\site-packages\\IPython\\core\\interactiveshell.py:3357: DtypeWarning: Columns (6) have mixed types.Specify dtype option on import or set low_memory=False.\n",
      "  if (await self.run_code(code, result,  async_=asy)):\n"
     ]
    },
    {
     "name": "stdout",
     "output_type": "stream",
     "text": [
      "Test MAE: 2.979\n",
      "Test MSE: 16.618\n",
      "Test RMSE: 4.077\n",
      "Test R2: 0.444772538901628267105081704358\n",
      "\n",
      "['temp']\n"
     ]
    },
    {
     "name": "stderr",
     "output_type": "stream",
     "text": [
      "c:\\users\\thest\\documents\\github\\fyp-bss-rebalancing\\venv\\lib\\site-packages\\IPython\\core\\interactiveshell.py:3357: DtypeWarning: Columns (6) have mixed types.Specify dtype option on import or set low_memory=False.\n",
      "  if (await self.run_code(code, result,  async_=asy)):\n"
     ]
    },
    {
     "name": "stdout",
     "output_type": "stream",
     "text": [
      "Test MAE: 2.936\n",
      "Test MSE: 16.151\n",
      "Test RMSE: 4.019\n",
      "Test R2: 0.460364941961777462964278129220\n",
      "\n",
      "['rhum']\n"
     ]
    },
    {
     "name": "stderr",
     "output_type": "stream",
     "text": [
      "c:\\users\\thest\\documents\\github\\fyp-bss-rebalancing\\venv\\lib\\site-packages\\IPython\\core\\interactiveshell.py:3357: DtypeWarning: Columns (6) have mixed types.Specify dtype option on import or set low_memory=False.\n",
      "  if (await self.run_code(code, result,  async_=asy)):\n"
     ]
    },
    {
     "name": "stdout",
     "output_type": "stream",
     "text": [
      "Test MAE: 2.960\n",
      "Test MSE: 16.439\n",
      "Test RMSE: 4.054\n",
      "Test R2: 0.450770125030653612263620289013\n",
      "\n",
      "['int_time', 'int_date']\n"
     ]
    },
    {
     "name": "stderr",
     "output_type": "stream",
     "text": [
      "c:\\users\\thest\\documents\\github\\fyp-bss-rebalancing\\venv\\lib\\site-packages\\IPython\\core\\interactiveshell.py:3357: DtypeWarning: Columns (6) have mixed types.Specify dtype option on import or set low_memory=False.\n",
      "  if (await self.run_code(code, result,  async_=asy)):\n"
     ]
    },
    {
     "name": "stdout",
     "output_type": "stream",
     "text": [
      "Test MAE: 2.954\n",
      "Test MSE: 16.433\n",
      "Test RMSE: 4.054\n",
      "Test R2: 0.450969800989587055184415476106\n",
      "\n",
      "['int_time', 'int_day']\n"
     ]
    },
    {
     "name": "stderr",
     "output_type": "stream",
     "text": [
      "c:\\users\\thest\\documents\\github\\fyp-bss-rebalancing\\venv\\lib\\site-packages\\IPython\\core\\interactiveshell.py:3357: DtypeWarning: Columns (6) have mixed types.Specify dtype option on import or set low_memory=False.\n",
      "  if (await self.run_code(code, result,  async_=asy)):\n"
     ]
    },
    {
     "name": "stdout",
     "output_type": "stream",
     "text": [
      "Test MAE: 2.937\n",
      "Test MSE: 16.292\n",
      "Test RMSE: 4.036\n",
      "Test R2: 0.455659787760449908056159529224\n",
      "\n",
      "['int_date', 'int_day']\n"
     ]
    },
    {
     "name": "stderr",
     "output_type": "stream",
     "text": [
      "c:\\users\\thest\\documents\\github\\fyp-bss-rebalancing\\venv\\lib\\site-packages\\IPython\\core\\interactiveshell.py:3357: DtypeWarning: Columns (6) have mixed types.Specify dtype option on import or set low_memory=False.\n",
      "  if (await self.run_code(code, result,  async_=asy)):\n"
     ]
    },
    {
     "name": "stdout",
     "output_type": "stream",
     "text": [
      "Test MAE: 2.961\n",
      "Test MSE: 16.540\n",
      "Test RMSE: 4.067\n",
      "Test R2: 0.447377839830072843163577545056\n",
      "\n",
      "['int_time', 'rain']\n"
     ]
    },
    {
     "name": "stderr",
     "output_type": "stream",
     "text": [
      "c:\\users\\thest\\documents\\github\\fyp-bss-rebalancing\\venv\\lib\\site-packages\\IPython\\core\\interactiveshell.py:3357: DtypeWarning: Columns (6) have mixed types.Specify dtype option on import or set low_memory=False.\n",
      "  if (await self.run_code(code, result,  async_=asy)):\n"
     ]
    },
    {
     "name": "stdout",
     "output_type": "stream",
     "text": [
      "Test MAE: 2.940\n",
      "Test MSE: 16.298\n",
      "Test RMSE: 4.037\n",
      "Test R2: 0.455481797334631122176062945073\n",
      "\n",
      "['int_date', 'rain']\n"
     ]
    },
    {
     "name": "stderr",
     "output_type": "stream",
     "text": [
      "c:\\users\\thest\\documents\\github\\fyp-bss-rebalancing\\venv\\lib\\site-packages\\IPython\\core\\interactiveshell.py:3357: DtypeWarning: Columns (6) have mixed types.Specify dtype option on import or set low_memory=False.\n",
      "  if (await self.run_code(code, result,  async_=asy)):\n"
     ]
    },
    {
     "name": "stdout",
     "output_type": "stream",
     "text": [
      "Test MAE: 2.949\n",
      "Test MSE: 16.306\n",
      "Test RMSE: 4.038\n",
      "Test R2: 0.455189342059414747687640101503\n",
      "\n",
      "['int_day', 'rain']\n"
     ]
    },
    {
     "name": "stderr",
     "output_type": "stream",
     "text": [
      "c:\\users\\thest\\documents\\github\\fyp-bss-rebalancing\\venv\\lib\\site-packages\\IPython\\core\\interactiveshell.py:3357: DtypeWarning: Columns (6) have mixed types.Specify dtype option on import or set low_memory=False.\n",
      "  if (await self.run_code(code, result,  async_=asy)):\n"
     ]
    },
    {
     "name": "stdout",
     "output_type": "stream",
     "text": [
      "Test MAE: 2.943\n",
      "Test MSE: 16.358\n",
      "Test RMSE: 4.044\n",
      "Test R2: 0.453476666730420752138286388799\n",
      "\n",
      "['int_time', 'temp']\n"
     ]
    },
    {
     "name": "stderr",
     "output_type": "stream",
     "text": [
      "c:\\users\\thest\\documents\\github\\fyp-bss-rebalancing\\venv\\lib\\site-packages\\IPython\\core\\interactiveshell.py:3357: DtypeWarning: Columns (6) have mixed types.Specify dtype option on import or set low_memory=False.\n",
      "  if (await self.run_code(code, result,  async_=asy)):\n"
     ]
    },
    {
     "name": "stdout",
     "output_type": "stream",
     "text": [
      "Test MAE: 2.925\n",
      "Test MSE: 15.968\n",
      "Test RMSE: 3.996\n",
      "Test R2: 0.466483028562342694200992809783\n",
      "\n",
      "['int_date', 'temp']\n"
     ]
    },
    {
     "name": "stderr",
     "output_type": "stream",
     "text": [
      "c:\\users\\thest\\documents\\github\\fyp-bss-rebalancing\\venv\\lib\\site-packages\\IPython\\core\\interactiveshell.py:3357: DtypeWarning: Columns (6) have mixed types.Specify dtype option on import or set low_memory=False.\n",
      "  if (await self.run_code(code, result,  async_=asy)):\n"
     ]
    },
    {
     "name": "stdout",
     "output_type": "stream",
     "text": [
      "Test MAE: 2.972\n",
      "Test MSE: 16.687\n",
      "Test RMSE: 4.085\n",
      "Test R2: 0.442480704997951890256047136063\n",
      "\n",
      "['int_day', 'temp']\n"
     ]
    },
    {
     "name": "stderr",
     "output_type": "stream",
     "text": [
      "c:\\users\\thest\\documents\\github\\fyp-bss-rebalancing\\venv\\lib\\site-packages\\IPython\\core\\interactiveshell.py:3357: DtypeWarning: Columns (6) have mixed types.Specify dtype option on import or set low_memory=False.\n",
      "  if (await self.run_code(code, result,  async_=asy)):\n"
     ]
    },
    {
     "name": "stdout",
     "output_type": "stream",
     "text": [
      "Test MAE: 2.990\n",
      "Test MSE: 16.447\n",
      "Test RMSE: 4.055\n",
      "Test R2: 0.450498672169117764241264012526\n",
      "\n",
      "['rain', 'temp']\n"
     ]
    },
    {
     "name": "stderr",
     "output_type": "stream",
     "text": [
      "c:\\users\\thest\\documents\\github\\fyp-bss-rebalancing\\venv\\lib\\site-packages\\IPython\\core\\interactiveshell.py:3357: DtypeWarning: Columns (6) have mixed types.Specify dtype option on import or set low_memory=False.\n",
      "  if (await self.run_code(code, result,  async_=asy)):\n"
     ]
    },
    {
     "name": "stdout",
     "output_type": "stream",
     "text": [
      "Test MAE: 2.953\n",
      "Test MSE: 16.254\n",
      "Test RMSE: 4.032\n",
      "Test R2: 0.456941029108661300739413491101\n",
      "\n",
      "['int_time', 'rhum']\n"
     ]
    },
    {
     "name": "stderr",
     "output_type": "stream",
     "text": [
      "c:\\users\\thest\\documents\\github\\fyp-bss-rebalancing\\venv\\lib\\site-packages\\IPython\\core\\interactiveshell.py:3357: DtypeWarning: Columns (6) have mixed types.Specify dtype option on import or set low_memory=False.\n",
      "  if (await self.run_code(code, result,  async_=asy)):\n"
     ]
    },
    {
     "name": "stdout",
     "output_type": "stream",
     "text": [
      "Test MAE: 2.959\n",
      "Test MSE: 16.431\n",
      "Test RMSE: 4.053\n",
      "Test R2: 0.451027937956749225278940684802\n",
      "\n",
      "['int_date', 'rhum']\n"
     ]
    },
    {
     "name": "stderr",
     "output_type": "stream",
     "text": [
      "c:\\users\\thest\\documents\\github\\fyp-bss-rebalancing\\venv\\lib\\site-packages\\IPython\\core\\interactiveshell.py:3357: DtypeWarning: Columns (6) have mixed types.Specify dtype option on import or set low_memory=False.\n",
      "  if (await self.run_code(code, result,  async_=asy)):\n"
     ]
    },
    {
     "name": "stdout",
     "output_type": "stream",
     "text": [
      "Test MAE: 2.949\n",
      "Test MSE: 16.336\n",
      "Test RMSE: 4.042\n",
      "Test R2: 0.454201089987863793062672357337\n",
      "\n",
      "['int_day', 'rhum']\n"
     ]
    },
    {
     "name": "stderr",
     "output_type": "stream",
     "text": [
      "c:\\users\\thest\\documents\\github\\fyp-bss-rebalancing\\venv\\lib\\site-packages\\IPython\\core\\interactiveshell.py:3357: DtypeWarning: Columns (6) have mixed types.Specify dtype option on import or set low_memory=False.\n",
      "  if (await self.run_code(code, result,  async_=asy)):\n"
     ]
    },
    {
     "name": "stdout",
     "output_type": "stream",
     "text": [
      "Test MAE: 2.933\n",
      "Test MSE: 16.106\n",
      "Test RMSE: 4.013\n",
      "Test R2: 0.461888436157849691099386291171\n",
      "\n",
      "['rain', 'rhum']\n"
     ]
    },
    {
     "name": "stderr",
     "output_type": "stream",
     "text": [
      "c:\\users\\thest\\documents\\github\\fyp-bss-rebalancing\\venv\\lib\\site-packages\\IPython\\core\\interactiveshell.py:3357: DtypeWarning: Columns (6) have mixed types.Specify dtype option on import or set low_memory=False.\n",
      "  if (await self.run_code(code, result,  async_=asy)):\n"
     ]
    },
    {
     "name": "stdout",
     "output_type": "stream",
     "text": [
      "Test MAE: 2.900\n",
      "Test MSE: 15.894\n",
      "Test RMSE: 3.987\n",
      "Test R2: 0.468970101456314791832369337499\n",
      "\n",
      "['temp', 'rhum']\n"
     ]
    },
    {
     "name": "stderr",
     "output_type": "stream",
     "text": [
      "c:\\users\\thest\\documents\\github\\fyp-bss-rebalancing\\venv\\lib\\site-packages\\IPython\\core\\interactiveshell.py:3357: DtypeWarning: Columns (6) have mixed types.Specify dtype option on import or set low_memory=False.\n",
      "  if (await self.run_code(code, result,  async_=asy)):\n"
     ]
    },
    {
     "name": "stdout",
     "output_type": "stream",
     "text": [
      "Test MAE: 2.897\n",
      "Test MSE: 15.817\n",
      "Test RMSE: 3.977\n",
      "Test R2: 0.471531407875899533088670523284\n",
      "\n",
      "['int_time', 'int_date', 'int_day']\n"
     ]
    },
    {
     "name": "stderr",
     "output_type": "stream",
     "text": [
      "c:\\users\\thest\\documents\\github\\fyp-bss-rebalancing\\venv\\lib\\site-packages\\IPython\\core\\interactiveshell.py:3357: DtypeWarning: Columns (6) have mixed types.Specify dtype option on import or set low_memory=False.\n",
      "  if (await self.run_code(code, result,  async_=asy)):\n"
     ]
    },
    {
     "name": "stdout",
     "output_type": "stream",
     "text": [
      "Test MAE: 2.945\n",
      "Test MSE: 16.574\n",
      "Test RMSE: 4.071\n",
      "Test R2: 0.446254560702920688441963648074\n",
      "\n",
      "['int_time', 'int_date', 'rain']\n"
     ]
    },
    {
     "name": "stderr",
     "output_type": "stream",
     "text": [
      "c:\\users\\thest\\documents\\github\\fyp-bss-rebalancing\\venv\\lib\\site-packages\\IPython\\core\\interactiveshell.py:3357: DtypeWarning: Columns (6) have mixed types.Specify dtype option on import or set low_memory=False.\n",
      "  if (await self.run_code(code, result,  async_=asy)):\n"
     ]
    },
    {
     "name": "stdout",
     "output_type": "stream",
     "text": [
      "Test MAE: 2.895\n",
      "Test MSE: 15.959\n",
      "Test RMSE: 3.995\n",
      "Test R2: 0.466783072923257047470713132498\n",
      "\n",
      "['int_time', 'int_day', 'rain']\n"
     ]
    },
    {
     "name": "stderr",
     "output_type": "stream",
     "text": [
      "c:\\users\\thest\\documents\\github\\fyp-bss-rebalancing\\venv\\lib\\site-packages\\IPython\\core\\interactiveshell.py:3357: DtypeWarning: Columns (6) have mixed types.Specify dtype option on import or set low_memory=False.\n",
      "  if (await self.run_code(code, result,  async_=asy)):\n"
     ]
    },
    {
     "name": "stdout",
     "output_type": "stream",
     "text": [
      "Test MAE: 2.942\n",
      "Test MSE: 16.187\n",
      "Test RMSE: 4.023\n",
      "Test R2: 0.459186487802842546734893858229\n",
      "\n",
      "['int_date', 'int_day', 'rain']\n"
     ]
    },
    {
     "name": "stderr",
     "output_type": "stream",
     "text": [
      "c:\\users\\thest\\documents\\github\\fyp-bss-rebalancing\\venv\\lib\\site-packages\\IPython\\core\\interactiveshell.py:3357: DtypeWarning: Columns (6) have mixed types.Specify dtype option on import or set low_memory=False.\n",
      "  if (await self.run_code(code, result,  async_=asy)):\n"
     ]
    },
    {
     "name": "stdout",
     "output_type": "stream",
     "text": [
      "Test MAE: 2.965\n",
      "Test MSE: 16.367\n",
      "Test RMSE: 4.046\n",
      "Test R2: 0.453152070305160581398240537965\n",
      "\n",
      "['int_time', 'int_date', 'temp']\n"
     ]
    },
    {
     "name": "stderr",
     "output_type": "stream",
     "text": [
      "c:\\users\\thest\\documents\\github\\fyp-bss-rebalancing\\venv\\lib\\site-packages\\IPython\\core\\interactiveshell.py:3357: DtypeWarning: Columns (6) have mixed types.Specify dtype option on import or set low_memory=False.\n",
      "  if (await self.run_code(code, result,  async_=asy)):\n"
     ]
    },
    {
     "name": "stdout",
     "output_type": "stream",
     "text": [
      "Test MAE: 2.982\n",
      "Test MSE: 16.639\n",
      "Test RMSE: 4.079\n",
      "Test R2: 0.444080146404725484288178449788\n",
      "\n",
      "['int_time', 'int_day', 'temp']\n"
     ]
    },
    {
     "name": "stderr",
     "output_type": "stream",
     "text": [
      "c:\\users\\thest\\documents\\github\\fyp-bss-rebalancing\\venv\\lib\\site-packages\\IPython\\core\\interactiveshell.py:3357: DtypeWarning: Columns (6) have mixed types.Specify dtype option on import or set low_memory=False.\n",
      "  if (await self.run_code(code, result,  async_=asy)):\n"
     ]
    },
    {
     "name": "stdout",
     "output_type": "stream",
     "text": [
      "Test MAE: 2.975\n",
      "Test MSE: 16.471\n",
      "Test RMSE: 4.058\n",
      "Test R2: 0.449693054908651079770720571105\n",
      "\n",
      "['int_date', 'int_day', 'temp']\n"
     ]
    },
    {
     "name": "stderr",
     "output_type": "stream",
     "text": [
      "c:\\users\\thest\\documents\\github\\fyp-bss-rebalancing\\venv\\lib\\site-packages\\IPython\\core\\interactiveshell.py:3357: DtypeWarning: Columns (6) have mixed types.Specify dtype option on import or set low_memory=False.\n",
      "  if (await self.run_code(code, result,  async_=asy)):\n"
     ]
    },
    {
     "name": "stdout",
     "output_type": "stream",
     "text": [
      "Test MAE: 2.953\n",
      "Test MSE: 16.360\n",
      "Test RMSE: 4.045\n",
      "Test R2: 0.453395219551487760334396170947\n",
      "\n",
      "['int_time', 'rain', 'temp']\n"
     ]
    },
    {
     "name": "stderr",
     "output_type": "stream",
     "text": [
      "c:\\users\\thest\\documents\\github\\fyp-bss-rebalancing\\venv\\lib\\site-packages\\IPython\\core\\interactiveshell.py:3357: DtypeWarning: Columns (6) have mixed types.Specify dtype option on import or set low_memory=False.\n",
      "  if (await self.run_code(code, result,  async_=asy)):\n"
     ]
    },
    {
     "name": "stdout",
     "output_type": "stream",
     "text": [
      "Test MAE: 2.962\n",
      "Test MSE: 16.338\n",
      "Test RMSE: 4.042\n",
      "Test R2: 0.454119741996882875234575749346\n",
      "\n",
      "['int_date', 'rain', 'temp']\n"
     ]
    },
    {
     "name": "stderr",
     "output_type": "stream",
     "text": [
      "c:\\users\\thest\\documents\\github\\fyp-bss-rebalancing\\venv\\lib\\site-packages\\IPython\\core\\interactiveshell.py:3357: DtypeWarning: Columns (6) have mixed types.Specify dtype option on import or set low_memory=False.\n",
      "  if (await self.run_code(code, result,  async_=asy)):\n"
     ]
    },
    {
     "name": "stdout",
     "output_type": "stream",
     "text": [
      "Test MAE: 2.970\n",
      "Test MSE: 16.590\n",
      "Test RMSE: 4.073\n",
      "Test R2: 0.445714532216439640599503491103\n",
      "\n",
      "['int_day', 'rain', 'temp']\n"
     ]
    },
    {
     "name": "stderr",
     "output_type": "stream",
     "text": [
      "c:\\users\\thest\\documents\\github\\fyp-bss-rebalancing\\venv\\lib\\site-packages\\IPython\\core\\interactiveshell.py:3357: DtypeWarning: Columns (6) have mixed types.Specify dtype option on import or set low_memory=False.\n",
      "  if (await self.run_code(code, result,  async_=asy)):\n"
     ]
    },
    {
     "name": "stdout",
     "output_type": "stream",
     "text": [
      "Test MAE: 2.996\n",
      "Test MSE: 16.954\n",
      "Test RMSE: 4.117\n",
      "Test R2: 0.433560717611727430842449848569\n",
      "\n",
      "['int_time', 'int_date', 'rhum']\n"
     ]
    },
    {
     "name": "stderr",
     "output_type": "stream",
     "text": [
      "c:\\users\\thest\\documents\\github\\fyp-bss-rebalancing\\venv\\lib\\site-packages\\IPython\\core\\interactiveshell.py:3357: DtypeWarning: Columns (6) have mixed types.Specify dtype option on import or set low_memory=False.\n",
      "  if (await self.run_code(code, result,  async_=asy)):\n"
     ]
    },
    {
     "name": "stdout",
     "output_type": "stream",
     "text": [
      "Test MAE: 2.968\n",
      "Test MSE: 16.486\n",
      "Test RMSE: 4.060\n",
      "Test R2: 0.449188525670662142097455671319\n",
      "\n",
      "['int_time', 'int_day', 'rhum']\n"
     ]
    },
    {
     "name": "stderr",
     "output_type": "stream",
     "text": [
      "c:\\users\\thest\\documents\\github\\fyp-bss-rebalancing\\venv\\lib\\site-packages\\IPython\\core\\interactiveshell.py:3357: DtypeWarning: Columns (6) have mixed types.Specify dtype option on import or set low_memory=False.\n",
      "  if (await self.run_code(code, result,  async_=asy)):\n"
     ]
    },
    {
     "name": "stdout",
     "output_type": "stream",
     "text": [
      "Test MAE: 3.042\n",
      "Test MSE: 16.775\n",
      "Test RMSE: 4.096\n",
      "Test R2: 0.439512168639376588075151630619\n",
      "\n",
      "['int_date', 'int_day', 'rhum']\n"
     ]
    },
    {
     "name": "stderr",
     "output_type": "stream",
     "text": [
      "c:\\users\\thest\\documents\\github\\fyp-bss-rebalancing\\venv\\lib\\site-packages\\IPython\\core\\interactiveshell.py:3357: DtypeWarning: Columns (6) have mixed types.Specify dtype option on import or set low_memory=False.\n",
      "  if (await self.run_code(code, result,  async_=asy)):\n"
     ]
    },
    {
     "name": "stdout",
     "output_type": "stream",
     "text": [
      "Test MAE: 2.944\n",
      "Test MSE: 16.291\n",
      "Test RMSE: 4.036\n",
      "Test R2: 0.455692862151859667818598609301\n",
      "\n",
      "['int_time', 'rain', 'rhum']\n"
     ]
    },
    {
     "name": "stderr",
     "output_type": "stream",
     "text": [
      "c:\\users\\thest\\documents\\github\\fyp-bss-rebalancing\\venv\\lib\\site-packages\\IPython\\core\\interactiveshell.py:3357: DtypeWarning: Columns (6) have mixed types.Specify dtype option on import or set low_memory=False.\n",
      "  if (await self.run_code(code, result,  async_=asy)):\n"
     ]
    },
    {
     "name": "stdout",
     "output_type": "stream",
     "text": [
      "Test MAE: 2.910\n",
      "Test MSE: 15.941\n",
      "Test RMSE: 3.993\n",
      "Test R2: 0.467390564028015154107720263710\n",
      "\n",
      "['int_date', 'rain', 'rhum']\n"
     ]
    },
    {
     "name": "stderr",
     "output_type": "stream",
     "text": [
      "c:\\users\\thest\\documents\\github\\fyp-bss-rebalancing\\venv\\lib\\site-packages\\IPython\\core\\interactiveshell.py:3357: DtypeWarning: Columns (6) have mixed types.Specify dtype option on import or set low_memory=False.\n",
      "  if (await self.run_code(code, result,  async_=asy)):\n"
     ]
    },
    {
     "name": "stdout",
     "output_type": "stream",
     "text": [
      "Test MAE: 2.958\n",
      "Test MSE: 16.180\n",
      "Test RMSE: 4.022\n",
      "Test R2: 0.459407223196636849138485558797\n",
      "\n",
      "['int_day', 'rain', 'rhum']\n"
     ]
    },
    {
     "name": "stderr",
     "output_type": "stream",
     "text": [
      "c:\\users\\thest\\documents\\github\\fyp-bss-rebalancing\\venv\\lib\\site-packages\\IPython\\core\\interactiveshell.py:3357: DtypeWarning: Columns (6) have mixed types.Specify dtype option on import or set low_memory=False.\n",
      "  if (await self.run_code(code, result,  async_=asy)):\n"
     ]
    },
    {
     "name": "stdout",
     "output_type": "stream",
     "text": [
      "Test MAE: 3.002\n",
      "Test MSE: 16.810\n",
      "Test RMSE: 4.100\n",
      "Test R2: 0.438360935673108298438194196933\n",
      "\n",
      "['int_time', 'temp', 'rhum']\n"
     ]
    },
    {
     "name": "stderr",
     "output_type": "stream",
     "text": [
      "c:\\users\\thest\\documents\\github\\fyp-bss-rebalancing\\venv\\lib\\site-packages\\IPython\\core\\interactiveshell.py:3357: DtypeWarning: Columns (6) have mixed types.Specify dtype option on import or set low_memory=False.\n",
      "  if (await self.run_code(code, result,  async_=asy)):\n"
     ]
    },
    {
     "name": "stdout",
     "output_type": "stream",
     "text": [
      "Test MAE: 2.938\n",
      "Test MSE: 16.238\n",
      "Test RMSE: 4.030\n",
      "Test R2: 0.457476212182770902714423755242\n",
      "\n",
      "['int_date', 'temp', 'rhum']\n"
     ]
    },
    {
     "name": "stderr",
     "output_type": "stream",
     "text": [
      "c:\\users\\thest\\documents\\github\\fyp-bss-rebalancing\\venv\\lib\\site-packages\\IPython\\core\\interactiveshell.py:3357: DtypeWarning: Columns (6) have mixed types.Specify dtype option on import or set low_memory=False.\n",
      "  if (await self.run_code(code, result,  async_=asy)):\n"
     ]
    },
    {
     "name": "stdout",
     "output_type": "stream",
     "text": [
      "Test MAE: 2.951\n",
      "Test MSE: 16.259\n",
      "Test RMSE: 4.032\n",
      "Test R2: 0.456759937629649059864789251151\n",
      "\n",
      "['int_day', 'temp', 'rhum']\n"
     ]
    },
    {
     "name": "stderr",
     "output_type": "stream",
     "text": [
      "c:\\users\\thest\\documents\\github\\fyp-bss-rebalancing\\venv\\lib\\site-packages\\IPython\\core\\interactiveshell.py:3357: DtypeWarning: Columns (6) have mixed types.Specify dtype option on import or set low_memory=False.\n",
      "  if (await self.run_code(code, result,  async_=asy)):\n"
     ]
    },
    {
     "name": "stdout",
     "output_type": "stream",
     "text": [
      "Test MAE: 2.926\n",
      "Test MSE: 16.157\n",
      "Test RMSE: 4.020\n",
      "Test R2: 0.460175326135502715807490403677\n",
      "\n",
      "['rain', 'temp', 'rhum']\n"
     ]
    },
    {
     "name": "stderr",
     "output_type": "stream",
     "text": [
      "c:\\users\\thest\\documents\\github\\fyp-bss-rebalancing\\venv\\lib\\site-packages\\IPython\\core\\interactiveshell.py:3357: DtypeWarning: Columns (6) have mixed types.Specify dtype option on import or set low_memory=False.\n",
      "  if (await self.run_code(code, result,  async_=asy)):\n"
     ]
    },
    {
     "name": "stdout",
     "output_type": "stream",
     "text": [
      "Test MAE: 2.931\n",
      "Test MSE: 15.963\n",
      "Test RMSE: 3.995\n",
      "Test R2: 0.466657671173964505584308426478\n",
      "\n",
      "['int_time', 'int_date', 'int_day', 'rain']\n"
     ]
    },
    {
     "name": "stderr",
     "output_type": "stream",
     "text": [
      "c:\\users\\thest\\documents\\github\\fyp-bss-rebalancing\\venv\\lib\\site-packages\\IPython\\core\\interactiveshell.py:3357: DtypeWarning: Columns (6) have mixed types.Specify dtype option on import or set low_memory=False.\n",
      "  if (await self.run_code(code, result,  async_=asy)):\n"
     ]
    },
    {
     "name": "stdout",
     "output_type": "stream",
     "text": [
      "Test MAE: 2.964\n",
      "Test MSE: 16.462\n",
      "Test RMSE: 4.057\n",
      "Test R2: 0.449985773618533202444780272344\n",
      "\n",
      "['int_time', 'int_date', 'int_day', 'temp']\n"
     ]
    },
    {
     "name": "stderr",
     "output_type": "stream",
     "text": [
      "c:\\users\\thest\\documents\\github\\fyp-bss-rebalancing\\venv\\lib\\site-packages\\IPython\\core\\interactiveshell.py:3357: DtypeWarning: Columns (6) have mixed types.Specify dtype option on import or set low_memory=False.\n",
      "  if (await self.run_code(code, result,  async_=asy)):\n"
     ]
    },
    {
     "name": "stdout",
     "output_type": "stream",
     "text": [
      "Test MAE: 2.939\n",
      "Test MSE: 16.277\n",
      "Test RMSE: 4.034\n",
      "Test R2: 0.456163047934097121149932263506\n",
      "\n",
      "['int_time', 'int_date', 'rain', 'temp']\n"
     ]
    },
    {
     "name": "stderr",
     "output_type": "stream",
     "text": [
      "c:\\users\\thest\\documents\\github\\fyp-bss-rebalancing\\venv\\lib\\site-packages\\IPython\\core\\interactiveshell.py:3357: DtypeWarning: Columns (6) have mixed types.Specify dtype option on import or set low_memory=False.\n",
      "  if (await self.run_code(code, result,  async_=asy)):\n"
     ]
    },
    {
     "name": "stdout",
     "output_type": "stream",
     "text": [
      "Test MAE: 2.980\n",
      "Test MSE: 16.300\n",
      "Test RMSE: 4.037\n",
      "Test R2: 0.455414431415739118236274407536\n",
      "\n",
      "['int_time', 'int_day', 'rain', 'temp']\n"
     ]
    },
    {
     "name": "stderr",
     "output_type": "stream",
     "text": [
      "c:\\users\\thest\\documents\\github\\fyp-bss-rebalancing\\venv\\lib\\site-packages\\IPython\\core\\interactiveshell.py:3357: DtypeWarning: Columns (6) have mixed types.Specify dtype option on import or set low_memory=False.\n",
      "  if (await self.run_code(code, result,  async_=asy)):\n"
     ]
    },
    {
     "name": "stdout",
     "output_type": "stream",
     "text": [
      "Test MAE: 2.940\n",
      "Test MSE: 16.431\n",
      "Test RMSE: 4.053\n",
      "Test R2: 0.451038070785488631742055076757\n",
      "\n",
      "['int_date', 'int_day', 'rain', 'temp']\n"
     ]
    },
    {
     "name": "stderr",
     "output_type": "stream",
     "text": [
      "c:\\users\\thest\\documents\\github\\fyp-bss-rebalancing\\venv\\lib\\site-packages\\IPython\\core\\interactiveshell.py:3357: DtypeWarning: Columns (6) have mixed types.Specify dtype option on import or set low_memory=False.\n",
      "  if (await self.run_code(code, result,  async_=asy)):\n"
     ]
    },
    {
     "ename": "KeyboardInterrupt",
     "evalue": "",
     "output_type": "error",
     "traceback": [
      "\u001b[1;31m---------------------------------------------------------------------------\u001b[0m",
      "\u001b[1;31mKeyboardInterrupt\u001b[0m                         Traceback (most recent call last)",
      "\u001b[1;32m<ipython-input-35-2fbc3e35fafe>\u001b[0m in \u001b[0;36m<module>\u001b[1;34m\u001b[0m\n\u001b[0;32m     22\u001b[0m \u001b[1;32mfor\u001b[0m \u001b[0mx\u001b[0m \u001b[1;32min\u001b[0m \u001b[0my\u001b[0m\u001b[1;33m:\u001b[0m\u001b[1;33m\u001b[0m\u001b[1;33m\u001b[0m\u001b[0m\n\u001b[0;32m     23\u001b[0m     \u001b[0mprint\u001b[0m\u001b[1;33m(\u001b[0m\u001b[0mx\u001b[0m\u001b[1;33m)\u001b[0m\u001b[1;33m\u001b[0m\u001b[1;33m\u001b[0m\u001b[0m\n\u001b[1;32m---> 24\u001b[1;33m     train_model('./datasets/bss/dublin/reorg_plus_weather/station_2.csv',\n\u001b[0m\u001b[0;32m     25\u001b[0m             \u001b[0mcols_to_use\u001b[0m\u001b[1;33m=\u001b[0m\u001b[1;33m[\u001b[0m\u001b[1;34m'int_time'\u001b[0m\u001b[1;33m,\u001b[0m \u001b[1;34m'int_date'\u001b[0m\u001b[1;33m,\u001b[0m \u001b[1;34m'int_day'\u001b[0m\u001b[1;33m,\u001b[0m \u001b[1;34m'rain'\u001b[0m\u001b[1;33m,\u001b[0m \u001b[1;34m'temp'\u001b[0m\u001b[1;33m,\u001b[0m \u001b[1;34m'rhum'\u001b[0m\u001b[1;33m]\u001b[0m\u001b[1;33m,\u001b[0m\u001b[1;33m\u001b[0m\u001b[1;33m\u001b[0m\u001b[0m\n\u001b[0;32m     26\u001b[0m             verbose=0)\n",
      "\u001b[1;32m<ipython-input-34-f0fb1c1dfdb0>\u001b[0m in \u001b[0;36mtrain_model\u001b[1;34m(file_location, train_start_date, train_end_date, test_start_date, test_end_date, cols_to_use, verbose)\u001b[0m\n\u001b[0;32m     77\u001b[0m     \u001b[0mmodel\u001b[0m\u001b[1;33m.\u001b[0m\u001b[0mcompile\u001b[0m\u001b[1;33m(\u001b[0m\u001b[0mloss\u001b[0m\u001b[1;33m=\u001b[0m\u001b[1;34m'mae'\u001b[0m\u001b[1;33m,\u001b[0m \u001b[0moptimizer\u001b[0m\u001b[1;33m=\u001b[0m\u001b[1;34m'adam'\u001b[0m\u001b[1;33m)\u001b[0m\u001b[1;33m\u001b[0m\u001b[1;33m\u001b[0m\u001b[0m\n\u001b[0;32m     78\u001b[0m     \u001b[1;31m# fit network\u001b[0m\u001b[1;33m\u001b[0m\u001b[1;33m\u001b[0m\u001b[1;33m\u001b[0m\u001b[0m\n\u001b[1;32m---> 79\u001b[1;33m     history = model.fit(train_X, train_y,\n\u001b[0m\u001b[0;32m     80\u001b[0m                         \u001b[0mepochs\u001b[0m\u001b[1;33m=\u001b[0m\u001b[1;36m150\u001b[0m\u001b[1;33m,\u001b[0m\u001b[1;33m\u001b[0m\u001b[1;33m\u001b[0m\u001b[0m\n\u001b[0;32m     81\u001b[0m                         \u001b[0mbatch_size\u001b[0m\u001b[1;33m=\u001b[0m\u001b[1;36m72\u001b[0m\u001b[1;33m,\u001b[0m\u001b[1;33m\u001b[0m\u001b[1;33m\u001b[0m\u001b[0m\n",
      "\u001b[1;32mc:\\users\\thest\\documents\\github\\fyp-bss-rebalancing\\venv\\lib\\site-packages\\tensorflow\\python\\keras\\engine\\training.py\u001b[0m in \u001b[0;36mfit\u001b[1;34m(self, x, y, batch_size, epochs, verbose, callbacks, validation_split, validation_data, shuffle, class_weight, sample_weight, initial_epoch, steps_per_epoch, validation_steps, validation_batch_size, validation_freq, max_queue_size, workers, use_multiprocessing)\u001b[0m\n\u001b[0;32m   1098\u001b[0m                 _r=1):\n\u001b[0;32m   1099\u001b[0m               \u001b[0mcallbacks\u001b[0m\u001b[1;33m.\u001b[0m\u001b[0mon_train_batch_begin\u001b[0m\u001b[1;33m(\u001b[0m\u001b[0mstep\u001b[0m\u001b[1;33m)\u001b[0m\u001b[1;33m\u001b[0m\u001b[1;33m\u001b[0m\u001b[0m\n\u001b[1;32m-> 1100\u001b[1;33m               \u001b[0mtmp_logs\u001b[0m \u001b[1;33m=\u001b[0m \u001b[0mself\u001b[0m\u001b[1;33m.\u001b[0m\u001b[0mtrain_function\u001b[0m\u001b[1;33m(\u001b[0m\u001b[0miterator\u001b[0m\u001b[1;33m)\u001b[0m\u001b[1;33m\u001b[0m\u001b[1;33m\u001b[0m\u001b[0m\n\u001b[0m\u001b[0;32m   1101\u001b[0m               \u001b[1;32mif\u001b[0m \u001b[0mdata_handler\u001b[0m\u001b[1;33m.\u001b[0m\u001b[0mshould_sync\u001b[0m\u001b[1;33m:\u001b[0m\u001b[1;33m\u001b[0m\u001b[1;33m\u001b[0m\u001b[0m\n\u001b[0;32m   1102\u001b[0m                 \u001b[0mcontext\u001b[0m\u001b[1;33m.\u001b[0m\u001b[0masync_wait\u001b[0m\u001b[1;33m(\u001b[0m\u001b[1;33m)\u001b[0m\u001b[1;33m\u001b[0m\u001b[1;33m\u001b[0m\u001b[0m\n",
      "\u001b[1;32mc:\\users\\thest\\documents\\github\\fyp-bss-rebalancing\\venv\\lib\\site-packages\\tensorflow\\python\\eager\\def_function.py\u001b[0m in \u001b[0;36m__call__\u001b[1;34m(self, *args, **kwds)\u001b[0m\n\u001b[0;32m    826\u001b[0m     \u001b[0mtracing_count\u001b[0m \u001b[1;33m=\u001b[0m \u001b[0mself\u001b[0m\u001b[1;33m.\u001b[0m\u001b[0mexperimental_get_tracing_count\u001b[0m\u001b[1;33m(\u001b[0m\u001b[1;33m)\u001b[0m\u001b[1;33m\u001b[0m\u001b[1;33m\u001b[0m\u001b[0m\n\u001b[0;32m    827\u001b[0m     \u001b[1;32mwith\u001b[0m \u001b[0mtrace\u001b[0m\u001b[1;33m.\u001b[0m\u001b[0mTrace\u001b[0m\u001b[1;33m(\u001b[0m\u001b[0mself\u001b[0m\u001b[1;33m.\u001b[0m\u001b[0m_name\u001b[0m\u001b[1;33m)\u001b[0m \u001b[1;32mas\u001b[0m \u001b[0mtm\u001b[0m\u001b[1;33m:\u001b[0m\u001b[1;33m\u001b[0m\u001b[1;33m\u001b[0m\u001b[0m\n\u001b[1;32m--> 828\u001b[1;33m       \u001b[0mresult\u001b[0m \u001b[1;33m=\u001b[0m \u001b[0mself\u001b[0m\u001b[1;33m.\u001b[0m\u001b[0m_call\u001b[0m\u001b[1;33m(\u001b[0m\u001b[1;33m*\u001b[0m\u001b[0margs\u001b[0m\u001b[1;33m,\u001b[0m \u001b[1;33m**\u001b[0m\u001b[0mkwds\u001b[0m\u001b[1;33m)\u001b[0m\u001b[1;33m\u001b[0m\u001b[1;33m\u001b[0m\u001b[0m\n\u001b[0m\u001b[0;32m    829\u001b[0m       \u001b[0mcompiler\u001b[0m \u001b[1;33m=\u001b[0m \u001b[1;34m\"xla\"\u001b[0m \u001b[1;32mif\u001b[0m \u001b[0mself\u001b[0m\u001b[1;33m.\u001b[0m\u001b[0m_experimental_compile\u001b[0m \u001b[1;32melse\u001b[0m \u001b[1;34m\"nonXla\"\u001b[0m\u001b[1;33m\u001b[0m\u001b[1;33m\u001b[0m\u001b[0m\n\u001b[0;32m    830\u001b[0m       \u001b[0mnew_tracing_count\u001b[0m \u001b[1;33m=\u001b[0m \u001b[0mself\u001b[0m\u001b[1;33m.\u001b[0m\u001b[0mexperimental_get_tracing_count\u001b[0m\u001b[1;33m(\u001b[0m\u001b[1;33m)\u001b[0m\u001b[1;33m\u001b[0m\u001b[1;33m\u001b[0m\u001b[0m\n",
      "\u001b[1;32mc:\\users\\thest\\documents\\github\\fyp-bss-rebalancing\\venv\\lib\\site-packages\\tensorflow\\python\\eager\\def_function.py\u001b[0m in \u001b[0;36m_call\u001b[1;34m(self, *args, **kwds)\u001b[0m\n\u001b[0;32m    853\u001b[0m       \u001b[1;31m# In this case we have created variables on the first call, so we run the\u001b[0m\u001b[1;33m\u001b[0m\u001b[1;33m\u001b[0m\u001b[1;33m\u001b[0m\u001b[0m\n\u001b[0;32m    854\u001b[0m       \u001b[1;31m# defunned version which is guaranteed to never create variables.\u001b[0m\u001b[1;33m\u001b[0m\u001b[1;33m\u001b[0m\u001b[1;33m\u001b[0m\u001b[0m\n\u001b[1;32m--> 855\u001b[1;33m       \u001b[1;32mreturn\u001b[0m \u001b[0mself\u001b[0m\u001b[1;33m.\u001b[0m\u001b[0m_stateless_fn\u001b[0m\u001b[1;33m(\u001b[0m\u001b[1;33m*\u001b[0m\u001b[0margs\u001b[0m\u001b[1;33m,\u001b[0m \u001b[1;33m**\u001b[0m\u001b[0mkwds\u001b[0m\u001b[1;33m)\u001b[0m  \u001b[1;31m# pylint: disable=not-callable\u001b[0m\u001b[1;33m\u001b[0m\u001b[1;33m\u001b[0m\u001b[0m\n\u001b[0m\u001b[0;32m    856\u001b[0m     \u001b[1;32melif\u001b[0m \u001b[0mself\u001b[0m\u001b[1;33m.\u001b[0m\u001b[0m_stateful_fn\u001b[0m \u001b[1;32mis\u001b[0m \u001b[1;32mnot\u001b[0m \u001b[1;32mNone\u001b[0m\u001b[1;33m:\u001b[0m\u001b[1;33m\u001b[0m\u001b[1;33m\u001b[0m\u001b[0m\n\u001b[0;32m    857\u001b[0m       \u001b[1;31m# Release the lock early so that multiple threads can perform the call\u001b[0m\u001b[1;33m\u001b[0m\u001b[1;33m\u001b[0m\u001b[1;33m\u001b[0m\u001b[0m\n",
      "\u001b[1;32mc:\\users\\thest\\documents\\github\\fyp-bss-rebalancing\\venv\\lib\\site-packages\\tensorflow\\python\\eager\\function.py\u001b[0m in \u001b[0;36m__call__\u001b[1;34m(self, *args, **kwargs)\u001b[0m\n\u001b[0;32m   2940\u001b[0m       (graph_function,\n\u001b[0;32m   2941\u001b[0m        filtered_flat_args) = self._maybe_define_function(args, kwargs)\n\u001b[1;32m-> 2942\u001b[1;33m     return graph_function._call_flat(\n\u001b[0m\u001b[0;32m   2943\u001b[0m         filtered_flat_args, captured_inputs=graph_function.captured_inputs)  # pylint: disable=protected-access\n\u001b[0;32m   2944\u001b[0m \u001b[1;33m\u001b[0m\u001b[0m\n",
      "\u001b[1;32mc:\\users\\thest\\documents\\github\\fyp-bss-rebalancing\\venv\\lib\\site-packages\\tensorflow\\python\\eager\\function.py\u001b[0m in \u001b[0;36m_call_flat\u001b[1;34m(self, args, captured_inputs, cancellation_manager)\u001b[0m\n\u001b[0;32m   1916\u001b[0m         and executing_eagerly):\n\u001b[0;32m   1917\u001b[0m       \u001b[1;31m# No tape is watching; skip to running the function.\u001b[0m\u001b[1;33m\u001b[0m\u001b[1;33m\u001b[0m\u001b[1;33m\u001b[0m\u001b[0m\n\u001b[1;32m-> 1918\u001b[1;33m       return self._build_call_outputs(self._inference_function.call(\n\u001b[0m\u001b[0;32m   1919\u001b[0m           ctx, args, cancellation_manager=cancellation_manager))\n\u001b[0;32m   1920\u001b[0m     forward_backward = self._select_forward_and_backward_functions(\n",
      "\u001b[1;32mc:\\users\\thest\\documents\\github\\fyp-bss-rebalancing\\venv\\lib\\site-packages\\tensorflow\\python\\eager\\function.py\u001b[0m in \u001b[0;36mcall\u001b[1;34m(self, ctx, args, cancellation_manager)\u001b[0m\n\u001b[0;32m    553\u001b[0m       \u001b[1;32mwith\u001b[0m \u001b[0m_InterpolateFunctionError\u001b[0m\u001b[1;33m(\u001b[0m\u001b[0mself\u001b[0m\u001b[1;33m)\u001b[0m\u001b[1;33m:\u001b[0m\u001b[1;33m\u001b[0m\u001b[1;33m\u001b[0m\u001b[0m\n\u001b[0;32m    554\u001b[0m         \u001b[1;32mif\u001b[0m \u001b[0mcancellation_manager\u001b[0m \u001b[1;32mis\u001b[0m \u001b[1;32mNone\u001b[0m\u001b[1;33m:\u001b[0m\u001b[1;33m\u001b[0m\u001b[1;33m\u001b[0m\u001b[0m\n\u001b[1;32m--> 555\u001b[1;33m           outputs = execute.execute(\n\u001b[0m\u001b[0;32m    556\u001b[0m               \u001b[0mstr\u001b[0m\u001b[1;33m(\u001b[0m\u001b[0mself\u001b[0m\u001b[1;33m.\u001b[0m\u001b[0msignature\u001b[0m\u001b[1;33m.\u001b[0m\u001b[0mname\u001b[0m\u001b[1;33m)\u001b[0m\u001b[1;33m,\u001b[0m\u001b[1;33m\u001b[0m\u001b[1;33m\u001b[0m\u001b[0m\n\u001b[0;32m    557\u001b[0m               \u001b[0mnum_outputs\u001b[0m\u001b[1;33m=\u001b[0m\u001b[0mself\u001b[0m\u001b[1;33m.\u001b[0m\u001b[0m_num_outputs\u001b[0m\u001b[1;33m,\u001b[0m\u001b[1;33m\u001b[0m\u001b[1;33m\u001b[0m\u001b[0m\n",
      "\u001b[1;32mc:\\users\\thest\\documents\\github\\fyp-bss-rebalancing\\venv\\lib\\site-packages\\tensorflow\\python\\eager\\execute.py\u001b[0m in \u001b[0;36mquick_execute\u001b[1;34m(op_name, num_outputs, inputs, attrs, ctx, name)\u001b[0m\n\u001b[0;32m     57\u001b[0m   \u001b[1;32mtry\u001b[0m\u001b[1;33m:\u001b[0m\u001b[1;33m\u001b[0m\u001b[1;33m\u001b[0m\u001b[0m\n\u001b[0;32m     58\u001b[0m     \u001b[0mctx\u001b[0m\u001b[1;33m.\u001b[0m\u001b[0mensure_initialized\u001b[0m\u001b[1;33m(\u001b[0m\u001b[1;33m)\u001b[0m\u001b[1;33m\u001b[0m\u001b[1;33m\u001b[0m\u001b[0m\n\u001b[1;32m---> 59\u001b[1;33m     tensors = pywrap_tfe.TFE_Py_Execute(ctx._handle, device_name, op_name,\n\u001b[0m\u001b[0;32m     60\u001b[0m                                         inputs, attrs, num_outputs)\n\u001b[0;32m     61\u001b[0m   \u001b[1;32mexcept\u001b[0m \u001b[0mcore\u001b[0m\u001b[1;33m.\u001b[0m\u001b[0m_NotOkStatusException\u001b[0m \u001b[1;32mas\u001b[0m \u001b[0me\u001b[0m\u001b[1;33m:\u001b[0m\u001b[1;33m\u001b[0m\u001b[1;33m\u001b[0m\u001b[0m\n",
      "\u001b[1;31mKeyboardInterrupt\u001b[0m: "
     ]
    }
   ],
   "source": [
    "attr_list = [\n",
    "    'int_time',\n",
    "    'int_date',\n",
    "    'int_day',\n",
    "    'rain',\n",
    "    'temp',\n",
    "    'rhum'\n",
    "]\n",
    "\n",
    "def powerset(s):\n",
    "    x = len(s)\n",
    "    masks = [1 << i for i in range(x)]\n",
    "    for i in range(1 << x):\n",
    "        yield [ss for mask, ss in zip(masks, s) if i & mask]\n",
    "    \n",
    "\n",
    "y = list(powerset(attr_list))\n",
    "y.sort\n",
    "print(len(y))\n",
    "y = sorted(y, key=len)\n",
    "y.pop(0)\n",
    "for x in y:\n",
    "    print(x)\n",
    "    warnings.filterwarnings(\"ignore\")\n",
    "    train_model('./datasets/bss/dublin/reorg_plus_weather/station_2.csv',\n",
    "            cols_to_use=['int_time', 'int_date', 'int_day', 'rain', 'temp', 'rhum'],\n",
    "            verbose=0)\n",
    "    print()"
   ]
  },
  {
   "cell_type": "code",
   "execution_count": 15,
   "id": "informative-diameter",
   "metadata": {},
   "outputs": [
    {
     "name": "stdout",
     "output_type": "stream",
     "text": [
      "64\n"
     ]
    }
   ],
   "source": [
    "attr_list = [\n",
    "    'int_time',\n",
    "    'int_date',\n",
    "    'int_day',\n",
    "    'rain',\n",
    "    'temp',\n",
    "    'rhum'\n",
    "]\n",
    "\n",
    "def powerset(s):\n",
    "    x = len(s)\n",
    "    masks = [1 << i for i in range(x)]\n",
    "    for i in range(1 << x):\n",
    "        yield [ss for mask, ss in zip(masks, s) if i & mask]\n",
    "    \n",
    "\n",
    "y = list(powerset(attr_list))\n",
    "y.sort\n",
    "print(len(y))\n",
    "y = sorted(y, key=len)\n",
    "y.pop(0)\n",
    "pos = 44"
   ]
  },
  {
   "cell_type": "code",
   "execution_count": 16,
   "id": "alert-recipient",
   "metadata": {},
   "outputs": [
    {
     "name": "stdout",
     "output_type": "stream",
     "text": [
      "44/63\n",
      "['int_time', 'int_day', 'rain', 'temp']\n",
      "Test MAE: 2.977\n",
      "Test MSE: 16.276\n",
      "Test RMSE: 4.034\n",
      "Test R2: 0.456193071111572923115318189957\n",
      "\n",
      "45/63\n",
      "['int_date', 'int_day', 'rain', 'temp']\n",
      "Test MAE: 2.929\n",
      "Test MSE: 16.170\n",
      "Test RMSE: 4.021\n",
      "Test R2: 0.459755027314544539862595229351\n",
      "\n",
      "46/63\n",
      "['int_time', 'int_date', 'int_day', 'rhum']\n",
      "Test MAE: 2.928\n",
      "Test MSE: 15.988\n",
      "Test RMSE: 3.999\n",
      "Test R2: 0.465811652748963633818846119539\n",
      "\n",
      "47/63\n",
      "['int_time', 'int_date', 'rain', 'rhum']\n",
      "Test MAE: 2.946\n",
      "Test MSE: 16.417\n",
      "Test RMSE: 4.052\n",
      "Test R2: 0.451489542252458186943897544552\n",
      "\n",
      "48/63\n",
      "['int_time', 'int_day', 'rain', 'rhum']\n"
     ]
    },
    {
     "ename": "KeyboardInterrupt",
     "evalue": "",
     "output_type": "error",
     "traceback": [
      "\u001b[1;31m---------------------------------------------------------------------------\u001b[0m",
      "\u001b[1;31mKeyboardInterrupt\u001b[0m                         Traceback (most recent call last)",
      "\u001b[1;32m<ipython-input-16-90ac71fc7cd6>\u001b[0m in \u001b[0;36m<module>\u001b[1;34m\u001b[0m\n\u001b[0;32m      4\u001b[0m     \u001b[0mprint\u001b[0m\u001b[1;33m(\u001b[0m\u001b[0mx\u001b[0m\u001b[1;33m)\u001b[0m\u001b[1;33m\u001b[0m\u001b[1;33m\u001b[0m\u001b[0m\n\u001b[0;32m      5\u001b[0m     \u001b[0mwarnings\u001b[0m\u001b[1;33m.\u001b[0m\u001b[0mfilterwarnings\u001b[0m\u001b[1;33m(\u001b[0m\u001b[1;34m\"ignore\"\u001b[0m\u001b[1;33m)\u001b[0m\u001b[1;33m\u001b[0m\u001b[1;33m\u001b[0m\u001b[0m\n\u001b[1;32m----> 6\u001b[1;33m     train_model('./datasets/bss/dublin/reorg_plus_weather/station_2.csv',\n\u001b[0m\u001b[0;32m      7\u001b[0m             \u001b[0mcols_to_use\u001b[0m\u001b[1;33m=\u001b[0m\u001b[1;33m[\u001b[0m\u001b[1;34m'int_time'\u001b[0m\u001b[1;33m,\u001b[0m \u001b[1;34m'int_date'\u001b[0m\u001b[1;33m,\u001b[0m \u001b[1;34m'int_day'\u001b[0m\u001b[1;33m,\u001b[0m \u001b[1;34m'rain'\u001b[0m\u001b[1;33m,\u001b[0m \u001b[1;34m'temp'\u001b[0m\u001b[1;33m,\u001b[0m \u001b[1;34m'rhum'\u001b[0m\u001b[1;33m]\u001b[0m\u001b[1;33m,\u001b[0m\u001b[1;33m\u001b[0m\u001b[1;33m\u001b[0m\u001b[0m\n\u001b[0;32m      8\u001b[0m             verbose=0)\n",
      "\u001b[1;32m<ipython-input-8-f0fb1c1dfdb0>\u001b[0m in \u001b[0;36mtrain_model\u001b[1;34m(file_location, train_start_date, train_end_date, test_start_date, test_end_date, cols_to_use, verbose)\u001b[0m\n\u001b[0;32m     77\u001b[0m     \u001b[0mmodel\u001b[0m\u001b[1;33m.\u001b[0m\u001b[0mcompile\u001b[0m\u001b[1;33m(\u001b[0m\u001b[0mloss\u001b[0m\u001b[1;33m=\u001b[0m\u001b[1;34m'mae'\u001b[0m\u001b[1;33m,\u001b[0m \u001b[0moptimizer\u001b[0m\u001b[1;33m=\u001b[0m\u001b[1;34m'adam'\u001b[0m\u001b[1;33m)\u001b[0m\u001b[1;33m\u001b[0m\u001b[1;33m\u001b[0m\u001b[0m\n\u001b[0;32m     78\u001b[0m     \u001b[1;31m# fit network\u001b[0m\u001b[1;33m\u001b[0m\u001b[1;33m\u001b[0m\u001b[1;33m\u001b[0m\u001b[0m\n\u001b[1;32m---> 79\u001b[1;33m     history = model.fit(train_X, train_y,\n\u001b[0m\u001b[0;32m     80\u001b[0m                         \u001b[0mepochs\u001b[0m\u001b[1;33m=\u001b[0m\u001b[1;36m150\u001b[0m\u001b[1;33m,\u001b[0m\u001b[1;33m\u001b[0m\u001b[1;33m\u001b[0m\u001b[0m\n\u001b[0;32m     81\u001b[0m                         \u001b[0mbatch_size\u001b[0m\u001b[1;33m=\u001b[0m\u001b[1;36m72\u001b[0m\u001b[1;33m,\u001b[0m\u001b[1;33m\u001b[0m\u001b[1;33m\u001b[0m\u001b[0m\n",
      "\u001b[1;32mc:\\users\\thest\\documents\\github\\fyp-bss-rebalancing\\venv\\lib\\site-packages\\tensorflow\\python\\keras\\engine\\training.py\u001b[0m in \u001b[0;36mfit\u001b[1;34m(self, x, y, batch_size, epochs, verbose, callbacks, validation_split, validation_data, shuffle, class_weight, sample_weight, initial_epoch, steps_per_epoch, validation_steps, validation_batch_size, validation_freq, max_queue_size, workers, use_multiprocessing)\u001b[0m\n\u001b[0;32m   1098\u001b[0m                 _r=1):\n\u001b[0;32m   1099\u001b[0m               \u001b[0mcallbacks\u001b[0m\u001b[1;33m.\u001b[0m\u001b[0mon_train_batch_begin\u001b[0m\u001b[1;33m(\u001b[0m\u001b[0mstep\u001b[0m\u001b[1;33m)\u001b[0m\u001b[1;33m\u001b[0m\u001b[1;33m\u001b[0m\u001b[0m\n\u001b[1;32m-> 1100\u001b[1;33m               \u001b[0mtmp_logs\u001b[0m \u001b[1;33m=\u001b[0m \u001b[0mself\u001b[0m\u001b[1;33m.\u001b[0m\u001b[0mtrain_function\u001b[0m\u001b[1;33m(\u001b[0m\u001b[0miterator\u001b[0m\u001b[1;33m)\u001b[0m\u001b[1;33m\u001b[0m\u001b[1;33m\u001b[0m\u001b[0m\n\u001b[0m\u001b[0;32m   1101\u001b[0m               \u001b[1;32mif\u001b[0m \u001b[0mdata_handler\u001b[0m\u001b[1;33m.\u001b[0m\u001b[0mshould_sync\u001b[0m\u001b[1;33m:\u001b[0m\u001b[1;33m\u001b[0m\u001b[1;33m\u001b[0m\u001b[0m\n\u001b[0;32m   1102\u001b[0m                 \u001b[0mcontext\u001b[0m\u001b[1;33m.\u001b[0m\u001b[0masync_wait\u001b[0m\u001b[1;33m(\u001b[0m\u001b[1;33m)\u001b[0m\u001b[1;33m\u001b[0m\u001b[1;33m\u001b[0m\u001b[0m\n",
      "\u001b[1;32mc:\\users\\thest\\documents\\github\\fyp-bss-rebalancing\\venv\\lib\\site-packages\\tensorflow\\python\\eager\\def_function.py\u001b[0m in \u001b[0;36m__call__\u001b[1;34m(self, *args, **kwds)\u001b[0m\n\u001b[0;32m    826\u001b[0m     \u001b[0mtracing_count\u001b[0m \u001b[1;33m=\u001b[0m \u001b[0mself\u001b[0m\u001b[1;33m.\u001b[0m\u001b[0mexperimental_get_tracing_count\u001b[0m\u001b[1;33m(\u001b[0m\u001b[1;33m)\u001b[0m\u001b[1;33m\u001b[0m\u001b[1;33m\u001b[0m\u001b[0m\n\u001b[0;32m    827\u001b[0m     \u001b[1;32mwith\u001b[0m \u001b[0mtrace\u001b[0m\u001b[1;33m.\u001b[0m\u001b[0mTrace\u001b[0m\u001b[1;33m(\u001b[0m\u001b[0mself\u001b[0m\u001b[1;33m.\u001b[0m\u001b[0m_name\u001b[0m\u001b[1;33m)\u001b[0m \u001b[1;32mas\u001b[0m \u001b[0mtm\u001b[0m\u001b[1;33m:\u001b[0m\u001b[1;33m\u001b[0m\u001b[1;33m\u001b[0m\u001b[0m\n\u001b[1;32m--> 828\u001b[1;33m       \u001b[0mresult\u001b[0m \u001b[1;33m=\u001b[0m \u001b[0mself\u001b[0m\u001b[1;33m.\u001b[0m\u001b[0m_call\u001b[0m\u001b[1;33m(\u001b[0m\u001b[1;33m*\u001b[0m\u001b[0margs\u001b[0m\u001b[1;33m,\u001b[0m \u001b[1;33m**\u001b[0m\u001b[0mkwds\u001b[0m\u001b[1;33m)\u001b[0m\u001b[1;33m\u001b[0m\u001b[1;33m\u001b[0m\u001b[0m\n\u001b[0m\u001b[0;32m    829\u001b[0m       \u001b[0mcompiler\u001b[0m \u001b[1;33m=\u001b[0m \u001b[1;34m\"xla\"\u001b[0m \u001b[1;32mif\u001b[0m \u001b[0mself\u001b[0m\u001b[1;33m.\u001b[0m\u001b[0m_experimental_compile\u001b[0m \u001b[1;32melse\u001b[0m \u001b[1;34m\"nonXla\"\u001b[0m\u001b[1;33m\u001b[0m\u001b[1;33m\u001b[0m\u001b[0m\n\u001b[0;32m    830\u001b[0m       \u001b[0mnew_tracing_count\u001b[0m \u001b[1;33m=\u001b[0m \u001b[0mself\u001b[0m\u001b[1;33m.\u001b[0m\u001b[0mexperimental_get_tracing_count\u001b[0m\u001b[1;33m(\u001b[0m\u001b[1;33m)\u001b[0m\u001b[1;33m\u001b[0m\u001b[1;33m\u001b[0m\u001b[0m\n",
      "\u001b[1;32mc:\\users\\thest\\documents\\github\\fyp-bss-rebalancing\\venv\\lib\\site-packages\\tensorflow\\python\\eager\\def_function.py\u001b[0m in \u001b[0;36m_call\u001b[1;34m(self, *args, **kwds)\u001b[0m\n\u001b[0;32m    853\u001b[0m       \u001b[1;31m# In this case we have created variables on the first call, so we run the\u001b[0m\u001b[1;33m\u001b[0m\u001b[1;33m\u001b[0m\u001b[1;33m\u001b[0m\u001b[0m\n\u001b[0;32m    854\u001b[0m       \u001b[1;31m# defunned version which is guaranteed to never create variables.\u001b[0m\u001b[1;33m\u001b[0m\u001b[1;33m\u001b[0m\u001b[1;33m\u001b[0m\u001b[0m\n\u001b[1;32m--> 855\u001b[1;33m       \u001b[1;32mreturn\u001b[0m \u001b[0mself\u001b[0m\u001b[1;33m.\u001b[0m\u001b[0m_stateless_fn\u001b[0m\u001b[1;33m(\u001b[0m\u001b[1;33m*\u001b[0m\u001b[0margs\u001b[0m\u001b[1;33m,\u001b[0m \u001b[1;33m**\u001b[0m\u001b[0mkwds\u001b[0m\u001b[1;33m)\u001b[0m  \u001b[1;31m# pylint: disable=not-callable\u001b[0m\u001b[1;33m\u001b[0m\u001b[1;33m\u001b[0m\u001b[0m\n\u001b[0m\u001b[0;32m    856\u001b[0m     \u001b[1;32melif\u001b[0m \u001b[0mself\u001b[0m\u001b[1;33m.\u001b[0m\u001b[0m_stateful_fn\u001b[0m \u001b[1;32mis\u001b[0m \u001b[1;32mnot\u001b[0m \u001b[1;32mNone\u001b[0m\u001b[1;33m:\u001b[0m\u001b[1;33m\u001b[0m\u001b[1;33m\u001b[0m\u001b[0m\n\u001b[0;32m    857\u001b[0m       \u001b[1;31m# Release the lock early so that multiple threads can perform the call\u001b[0m\u001b[1;33m\u001b[0m\u001b[1;33m\u001b[0m\u001b[1;33m\u001b[0m\u001b[0m\n",
      "\u001b[1;32mc:\\users\\thest\\documents\\github\\fyp-bss-rebalancing\\venv\\lib\\site-packages\\tensorflow\\python\\eager\\function.py\u001b[0m in \u001b[0;36m__call__\u001b[1;34m(self, *args, **kwargs)\u001b[0m\n\u001b[0;32m   2940\u001b[0m       (graph_function,\n\u001b[0;32m   2941\u001b[0m        filtered_flat_args) = self._maybe_define_function(args, kwargs)\n\u001b[1;32m-> 2942\u001b[1;33m     return graph_function._call_flat(\n\u001b[0m\u001b[0;32m   2943\u001b[0m         filtered_flat_args, captured_inputs=graph_function.captured_inputs)  # pylint: disable=protected-access\n\u001b[0;32m   2944\u001b[0m \u001b[1;33m\u001b[0m\u001b[0m\n",
      "\u001b[1;32mc:\\users\\thest\\documents\\github\\fyp-bss-rebalancing\\venv\\lib\\site-packages\\tensorflow\\python\\eager\\function.py\u001b[0m in \u001b[0;36m_call_flat\u001b[1;34m(self, args, captured_inputs, cancellation_manager)\u001b[0m\n\u001b[0;32m   1916\u001b[0m         and executing_eagerly):\n\u001b[0;32m   1917\u001b[0m       \u001b[1;31m# No tape is watching; skip to running the function.\u001b[0m\u001b[1;33m\u001b[0m\u001b[1;33m\u001b[0m\u001b[1;33m\u001b[0m\u001b[0m\n\u001b[1;32m-> 1918\u001b[1;33m       return self._build_call_outputs(self._inference_function.call(\n\u001b[0m\u001b[0;32m   1919\u001b[0m           ctx, args, cancellation_manager=cancellation_manager))\n\u001b[0;32m   1920\u001b[0m     forward_backward = self._select_forward_and_backward_functions(\n",
      "\u001b[1;32mc:\\users\\thest\\documents\\github\\fyp-bss-rebalancing\\venv\\lib\\site-packages\\tensorflow\\python\\eager\\function.py\u001b[0m in \u001b[0;36mcall\u001b[1;34m(self, ctx, args, cancellation_manager)\u001b[0m\n\u001b[0;32m    553\u001b[0m       \u001b[1;32mwith\u001b[0m \u001b[0m_InterpolateFunctionError\u001b[0m\u001b[1;33m(\u001b[0m\u001b[0mself\u001b[0m\u001b[1;33m)\u001b[0m\u001b[1;33m:\u001b[0m\u001b[1;33m\u001b[0m\u001b[1;33m\u001b[0m\u001b[0m\n\u001b[0;32m    554\u001b[0m         \u001b[1;32mif\u001b[0m \u001b[0mcancellation_manager\u001b[0m \u001b[1;32mis\u001b[0m \u001b[1;32mNone\u001b[0m\u001b[1;33m:\u001b[0m\u001b[1;33m\u001b[0m\u001b[1;33m\u001b[0m\u001b[0m\n\u001b[1;32m--> 555\u001b[1;33m           outputs = execute.execute(\n\u001b[0m\u001b[0;32m    556\u001b[0m               \u001b[0mstr\u001b[0m\u001b[1;33m(\u001b[0m\u001b[0mself\u001b[0m\u001b[1;33m.\u001b[0m\u001b[0msignature\u001b[0m\u001b[1;33m.\u001b[0m\u001b[0mname\u001b[0m\u001b[1;33m)\u001b[0m\u001b[1;33m,\u001b[0m\u001b[1;33m\u001b[0m\u001b[1;33m\u001b[0m\u001b[0m\n\u001b[0;32m    557\u001b[0m               \u001b[0mnum_outputs\u001b[0m\u001b[1;33m=\u001b[0m\u001b[0mself\u001b[0m\u001b[1;33m.\u001b[0m\u001b[0m_num_outputs\u001b[0m\u001b[1;33m,\u001b[0m\u001b[1;33m\u001b[0m\u001b[1;33m\u001b[0m\u001b[0m\n",
      "\u001b[1;32mc:\\users\\thest\\documents\\github\\fyp-bss-rebalancing\\venv\\lib\\site-packages\\tensorflow\\python\\eager\\execute.py\u001b[0m in \u001b[0;36mquick_execute\u001b[1;34m(op_name, num_outputs, inputs, attrs, ctx, name)\u001b[0m\n\u001b[0;32m     57\u001b[0m   \u001b[1;32mtry\u001b[0m\u001b[1;33m:\u001b[0m\u001b[1;33m\u001b[0m\u001b[1;33m\u001b[0m\u001b[0m\n\u001b[0;32m     58\u001b[0m     \u001b[0mctx\u001b[0m\u001b[1;33m.\u001b[0m\u001b[0mensure_initialized\u001b[0m\u001b[1;33m(\u001b[0m\u001b[1;33m)\u001b[0m\u001b[1;33m\u001b[0m\u001b[1;33m\u001b[0m\u001b[0m\n\u001b[1;32m---> 59\u001b[1;33m     tensors = pywrap_tfe.TFE_Py_Execute(ctx._handle, device_name, op_name,\n\u001b[0m\u001b[0;32m     60\u001b[0m                                         inputs, attrs, num_outputs)\n\u001b[0;32m     61\u001b[0m   \u001b[1;32mexcept\u001b[0m \u001b[0mcore\u001b[0m\u001b[1;33m.\u001b[0m\u001b[0m_NotOkStatusException\u001b[0m \u001b[1;32mas\u001b[0m \u001b[0me\u001b[0m\u001b[1;33m:\u001b[0m\u001b[1;33m\u001b[0m\u001b[1;33m\u001b[0m\u001b[0m\n",
      "\u001b[1;31mKeyboardInterrupt\u001b[0m: "
     ]
    }
   ],
   "source": [
    "for x in y[pos:]:\n",
    "    print(str(pos) + \"/\" + str(len(y)))\n",
    "    pos = pos+1\n",
    "    print(x)\n",
    "    warnings.filterwarnings(\"ignore\")\n",
    "    train_model('./datasets/bss/dublin/reorg_plus_weather/station_2.csv',\n",
    "            cols_to_use=['int_time', 'int_date', 'int_day', 'rain', 'temp', 'rhum'],\n",
    "            verbose=0)\n",
    "    print()\n",
    "    keras.backend.clear_session()"
   ]
  },
  {
   "cell_type": "code",
   "execution_count": 11,
   "id": "absent-encyclopedia",
   "metadata": {},
   "outputs": [],
   "source": [
    "def test_powersets(start_position=0, file='./datasets/bss/dublin/reorg_plus_weather/station_2.csv'):\n",
    "    attr_list = [\n",
    "        'int_time',\n",
    "        'int_date',\n",
    "        'int_day',\n",
    "        'rain',\n",
    "        'temp',\n",
    "        'rhum'\n",
    "    ]\n",
    "\n",
    "    def powerset(s):\n",
    "        x = len(s)\n",
    "        masks = [1 << i for i in range(x)]\n",
    "        for i in range(1 << x):\n",
    "            yield [ss for mask, ss in zip(masks, s) if i & mask]\n",
    "\n",
    "\n",
    "    y = list(powerset(attr_list))\n",
    "    y.sort\n",
    "    print(len(y))\n",
    "    y = sorted(y, key=len)\n",
    "    y.pop(0)\n",
    "    \n",
    "    for x in y[start_position:]:\n",
    "        print(str(start_position) + \"/\" + str(len(y)-1))\n",
    "        start_position = start_position+1\n",
    "        print(x)\n",
    "        warnings.filterwarnings(\"ignore\")\n",
    "        train_model(file,\n",
    "                cols_to_use=['int_time', 'int_date', 'int_day', 'rain', 'temp', 'rhum'],\n",
    "                verbose=0)\n",
    "        print()\n",
    "        keras.backend.clear_session()"
   ]
  },
  {
   "cell_type": "code",
   "execution_count": 4,
   "id": "contemporary-chapel",
   "metadata": {},
   "outputs": [
    {
     "name": "stdout",
     "output_type": "stream",
     "text": [
      "64\n",
      "48/63\n",
      "['int_time', 'int_day', 'rain', 'rhum']\n",
      "Test MAE: 2.925\n",
      "Test MSE: 16.265\n",
      "Test RMSE: 4.033\n",
      "Test R2: 0.456575120019261482262606932636\n",
      "\n",
      "49/63\n",
      "['int_date', 'int_day', 'rain', 'rhum']\n",
      "Test MAE: 2.907\n",
      "Test MSE: 15.936\n",
      "Test RMSE: 3.992\n",
      "Test R2: 0.467552093524261080936810230924\n",
      "\n",
      "50/63\n",
      "['int_time', 'int_date', 'temp', 'rhum']\n",
      "Test MAE: 2.958\n",
      "Test MSE: 16.468\n",
      "Test RMSE: 4.058\n",
      "Test R2: 0.449787258803440725962730084575\n",
      "\n",
      "51/63\n",
      "['int_time', 'int_day', 'temp', 'rhum']\n",
      "Test MAE: 2.934\n",
      "Test MSE: 16.257\n",
      "Test RMSE: 4.032\n",
      "Test R2: 0.456850463570347642416891176254\n",
      "\n",
      "52/63\n",
      "['int_date', 'int_day', 'temp', 'rhum']\n",
      "Test MAE: 2.945\n",
      "Test MSE: 16.495\n",
      "Test RMSE: 4.061\n",
      "Test R2: 0.448869306189549122088067178993\n",
      "\n",
      "53/63\n",
      "['int_time', 'rain', 'temp', 'rhum']\n",
      "Test MAE: 2.949\n",
      "Test MSE: 16.087\n",
      "Test RMSE: 4.011\n",
      "Test R2: 0.462513652657874030360574124643\n",
      "\n",
      "54/63\n",
      "['int_date', 'rain', 'temp', 'rhum']\n",
      "Test MAE: 2.949\n",
      "Test MSE: 16.166\n",
      "Test RMSE: 4.021\n",
      "Test R2: 0.459884351803481861153954923793\n",
      "\n",
      "55/63\n",
      "['int_day', 'rain', 'temp', 'rhum']\n",
      "Test MAE: 2.897\n",
      "Test MSE: 15.819\n",
      "Test RMSE: 3.977\n",
      "Test R2: 0.471466877307751386361189815943\n",
      "\n",
      "56/63\n",
      "['int_time', 'int_date', 'int_day', 'rain', 'temp']\n",
      "Test MAE: 2.989\n",
      "Test MSE: 16.601\n",
      "Test RMSE: 4.074\n",
      "Test R2: 0.445354585531622104710436360619\n",
      "\n",
      "57/63\n",
      "['int_time', 'int_date', 'int_day', 'rain', 'rhum']\n",
      "Test MAE: 2.995\n",
      "Test MSE: 16.675\n",
      "Test RMSE: 4.084\n",
      "Test R2: 0.442859494905684880627916300000\n",
      "\n",
      "58/63\n",
      "['int_time', 'int_date', 'int_day', 'temp', 'rhum']\n",
      "Test MAE: 2.936\n",
      "Test MSE: 16.177\n",
      "Test RMSE: 4.022\n",
      "Test R2: 0.459509712851170593062022362574\n",
      "\n",
      "59/63\n",
      "['int_time', 'int_date', 'rain', 'temp', 'rhum']\n",
      "Test MAE: 2.955\n",
      "Test MSE: 16.473\n",
      "Test RMSE: 4.059\n",
      "Test R2: 0.449612889267676285598440699687\n",
      "\n",
      "60/63\n",
      "['int_time', 'int_day', 'rain', 'temp', 'rhum']\n",
      "Test MAE: 2.935\n",
      "Test MSE: 16.105\n",
      "Test RMSE: 4.013\n",
      "Test R2: 0.461911941998714214996368809807\n",
      "\n",
      "61/63\n",
      "['int_date', 'int_day', 'rain', 'temp', 'rhum']\n",
      "Test MAE: 2.924\n",
      "Test MSE: 16.069\n",
      "Test RMSE: 4.009\n",
      "Test R2: 0.463128450128264868013161503768\n",
      "\n",
      "62/63\n",
      "['int_time', 'int_date', 'int_day', 'rain', 'temp', 'rhum']\n",
      "Test MAE: 2.967\n",
      "Test MSE: 16.524\n",
      "Test RMSE: 4.065\n",
      "Test R2: 0.447899296185791495616967949900\n",
      "\n"
     ]
    }
   ],
   "source": [
    "test_powersets(48)"
   ]
  },
  {
   "cell_type": "code",
   "execution_count": 12,
   "id": "painted-profit",
   "metadata": {},
   "outputs": [
    {
     "name": "stdout",
     "output_type": "stream",
     "text": [
      "64\n",
      "0/62\n",
      "['int_time']\n",
      "Test MAE: 3.238\n",
      "Test MSE: 21.247\n",
      "Test RMSE: 4.609\n",
      "Test R2: 0.327476160993642739782671924331\n",
      "\n",
      "1/62\n",
      "['int_date']\n",
      "Test MAE: 3.234\n",
      "Test MSE: 21.833\n",
      "Test RMSE: 4.673\n",
      "Test R2: 0.308922137849465539005677783280\n",
      "\n",
      "2/62\n",
      "['int_day']\n",
      "Test MAE: 3.213\n",
      "Test MSE: 20.596\n",
      "Test RMSE: 4.538\n",
      "Test R2: 0.348098627917264979991784912272\n",
      "\n",
      "3/62\n",
      "['rain']\n",
      "Test MAE: 3.297\n",
      "Test MSE: 22.453\n",
      "Test RMSE: 4.738\n",
      "Test R2: 0.289317018164757855380742057605\n",
      "\n",
      "4/62\n",
      "['temp']\n",
      "Test MAE: 3.214\n",
      "Test MSE: 20.982\n",
      "Test RMSE: 4.581\n",
      "Test R2: 0.335860247806347600452170354401\n",
      "\n",
      "5/62\n",
      "['rhum']\n",
      "Test MAE: 3.101\n",
      "Test MSE: 19.895\n",
      "Test RMSE: 4.460\n",
      "Test R2: 0.370284627671228494527611019294\n",
      "\n",
      "6/62\n",
      "['int_time', 'int_date']\n",
      "Test MAE: 3.208\n",
      "Test MSE: 20.828\n",
      "Test RMSE: 4.564\n",
      "Test R2: 0.340743717285184932741515240195\n",
      "\n",
      "7/62\n",
      "['int_time', 'int_day']\n",
      "Test MAE: 3.241\n",
      "Test MSE: 21.239\n",
      "Test RMSE: 4.609\n",
      "Test R2: 0.327749051155038495508620144392\n",
      "\n",
      "8/62\n",
      "['int_date', 'int_day']\n",
      "Test MAE: 3.182\n",
      "Test MSE: 20.485\n",
      "Test RMSE: 4.526\n",
      "Test R2: 0.351601185906202484687810283503\n",
      "\n",
      "9/62\n",
      "['int_time', 'rain']\n",
      "Test MAE: 3.134\n",
      "Test MSE: 20.323\n",
      "Test RMSE: 4.508\n",
      "Test R2: 0.356717041203202356314250209834\n",
      "\n",
      "10/62\n",
      "['int_date', 'rain']\n",
      "Test MAE: 3.216\n",
      "Test MSE: 20.824\n",
      "Test RMSE: 4.563\n",
      "Test R2: 0.340889318392977980209934685263\n",
      "\n",
      "11/62\n",
      "['int_day', 'rain']\n",
      "Test MAE: 3.277\n",
      "Test MSE: 20.775\n",
      "Test RMSE: 4.558\n",
      "Test R2: 0.342428018984402005031597582274\n",
      "\n",
      "12/62\n",
      "['int_time', 'temp']\n",
      "Test MAE: 3.270\n",
      "Test MSE: 21.940\n",
      "Test RMSE: 4.684\n",
      "Test R2: 0.305551599244844651614982922183\n",
      "\n",
      "13/62\n",
      "['int_date', 'temp']\n",
      "Test MAE: 3.235\n",
      "Test MSE: 21.055\n",
      "Test RMSE: 4.589\n",
      "Test R2: 0.333553909113796009933139430359\n",
      "\n",
      "14/62\n",
      "['int_day', 'temp']\n",
      "Test MAE: 3.152\n",
      "Test MSE: 20.460\n",
      "Test RMSE: 4.523\n",
      "Test R2: 0.352388489237838498091548444791\n",
      "\n",
      "15/62\n",
      "['rain', 'temp']\n",
      "Test MAE: 3.178\n",
      "Test MSE: 20.335\n",
      "Test RMSE: 4.509\n",
      "Test R2: 0.356345464807860778932990797330\n",
      "\n",
      "16/62\n",
      "['int_time', 'rhum']\n",
      "Test MAE: 3.311\n",
      "Test MSE: 22.345\n",
      "Test RMSE: 4.727\n",
      "Test R2: 0.292731152902057978337779786671\n",
      "\n",
      "17/62\n",
      "['int_date', 'rhum']\n",
      "Test MAE: 3.258\n",
      "Test MSE: 21.619\n",
      "Test RMSE: 4.650\n",
      "Test R2: 0.315710381943461904086234426359\n",
      "\n",
      "18/62\n",
      "['int_day', 'rhum']\n",
      "Test MAE: 3.216\n",
      "Test MSE: 21.286\n",
      "Test RMSE: 4.614\n",
      "Test R2: 0.326258674929744030279721300758\n",
      "\n",
      "19/62\n",
      "['rain', 'rhum']\n",
      "Test MAE: 3.229\n",
      "Test MSE: 21.445\n",
      "Test RMSE: 4.631\n",
      "Test R2: 0.321223329155125081335597769794\n",
      "\n",
      "20/62\n",
      "['temp', 'rhum']\n",
      "Test MAE: 3.117\n",
      "Test MSE: 19.917\n",
      "Test RMSE: 4.463\n",
      "Test R2: 0.369583104425982744700718285458\n",
      "\n",
      "21/62\n",
      "['int_time', 'int_date', 'int_day']\n",
      "Test MAE: 3.183\n",
      "Test MSE: 20.555\n",
      "Test RMSE: 4.534\n",
      "Test R2: 0.349383143101602122726490051718\n",
      "\n",
      "22/62\n",
      "['int_time', 'int_date', 'rain']\n",
      "Test MAE: 3.266\n",
      "Test MSE: 21.592\n",
      "Test RMSE: 4.647\n",
      "Test R2: 0.316554820970945782754313313490\n",
      "\n",
      "23/62\n",
      "['int_time', 'int_day', 'rain']\n",
      "Test MAE: 3.230\n",
      "Test MSE: 21.659\n",
      "Test RMSE: 4.654\n",
      "Test R2: 0.314451088312599158491877915367\n",
      "\n",
      "24/62\n",
      "['int_date', 'int_day', 'rain']\n",
      "Test MAE: 3.140\n",
      "Test MSE: 20.029\n",
      "Test RMSE: 4.475\n",
      "Test R2: 0.366027529904950910122352070175\n",
      "\n",
      "25/62\n",
      "['int_time', 'int_date', 'temp']\n",
      "Test MAE: 3.146\n",
      "Test MSE: 20.532\n",
      "Test RMSE: 4.531\n",
      "Test R2: 0.350102733772279073320987663465\n",
      "\n",
      "26/62\n",
      "['int_time', 'int_day', 'temp']\n",
      "Test MAE: 3.182\n",
      "Test MSE: 20.353\n",
      "Test RMSE: 4.511\n",
      "Test R2: 0.355782039383360171314052422531\n",
      "\n",
      "27/62\n",
      "['int_date', 'int_day', 'temp']\n",
      "Test MAE: 3.225\n",
      "Test MSE: 21.657\n",
      "Test RMSE: 4.654\n",
      "Test R2: 0.314523142537384114980625327007\n",
      "\n",
      "28/62\n",
      "['int_time', 'rain', 'temp']\n",
      "Test MAE: 3.151\n",
      "Test MSE: 20.036\n",
      "Test RMSE: 4.476\n",
      "Test R2: 0.365822049511369984386988107872\n",
      "\n",
      "29/62\n",
      "['int_date', 'rain', 'temp']\n",
      "Test MAE: 3.183\n",
      "Test MSE: 20.412\n",
      "Test RMSE: 4.518\n",
      "Test R2: 0.353927978626381922744315033924\n",
      "\n",
      "30/62\n",
      "['int_day', 'rain', 'temp']\n",
      "Test MAE: 3.257\n",
      "Test MSE: 21.651\n",
      "Test RMSE: 4.653\n",
      "Test R2: 0.314690127539324682182098058547\n",
      "\n",
      "31/62\n",
      "['int_time', 'int_date', 'rhum']\n",
      "Test MAE: 3.230\n",
      "Test MSE: 21.758\n",
      "Test RMSE: 4.665\n",
      "Test R2: 0.311319077703449242910949124052\n",
      "\n",
      "32/62\n",
      "['int_time', 'int_day', 'rhum']\n",
      "Test MAE: 3.218\n",
      "Test MSE: 21.276\n",
      "Test RMSE: 4.613\n",
      "Test R2: 0.326557405756063734436622780777\n",
      "\n",
      "33/62\n",
      "['int_date', 'int_day', 'rhum']\n",
      "Test MAE: 3.215\n",
      "Test MSE: 21.252\n",
      "Test RMSE: 4.610\n",
      "Test R2: 0.327337841422814634917415332893\n",
      "\n",
      "34/62\n",
      "['int_time', 'rain', 'rhum']\n",
      "Test MAE: 3.125\n",
      "Test MSE: 20.032\n",
      "Test RMSE: 4.476\n",
      "Test R2: 0.365948406140054860458121765987\n",
      "\n",
      "35/62\n",
      "['int_date', 'rain', 'rhum']\n",
      "Test MAE: 3.133\n",
      "Test MSE: 19.470\n",
      "Test RMSE: 4.412\n",
      "Test R2: 0.383739413063142298376817507233\n",
      "\n",
      "36/62\n",
      "['int_day', 'rain', 'rhum']\n",
      "Test MAE: 3.160\n",
      "Test MSE: 20.346\n",
      "Test RMSE: 4.511\n",
      "Test R2: 0.356010063936997078748447620455\n",
      "\n",
      "37/62\n",
      "['int_time', 'temp', 'rhum']\n",
      "Test MAE: 3.360\n",
      "Test MSE: 22.559\n",
      "Test RMSE: 4.750\n",
      "Test R2: 0.285951038244949162780983442644\n",
      "\n",
      "38/62\n",
      "['int_date', 'temp', 'rhum']\n",
      "Test MAE: 3.270\n",
      "Test MSE: 21.926\n",
      "Test RMSE: 4.683\n",
      "Test R2: 0.305991443189174927574924822693\n",
      "\n",
      "39/62\n",
      "['int_day', 'temp', 'rhum']\n",
      "Test MAE: 3.173\n",
      "Test MSE: 20.648\n",
      "Test RMSE: 4.544\n",
      "Test R2: 0.346452343107950033740394246706\n",
      "\n",
      "40/62\n",
      "['rain', 'temp', 'rhum']\n",
      "Test MAE: 3.196\n",
      "Test MSE: 20.537\n",
      "Test RMSE: 4.532\n",
      "Test R2: 0.349957921576232622307145447849\n",
      "\n",
      "41/62\n",
      "['int_time', 'int_date', 'int_day', 'rain']\n",
      "Test MAE: 3.125\n",
      "Test MSE: 20.154\n",
      "Test RMSE: 4.489\n",
      "Test R2: 0.362074492275152870490728673758\n",
      "\n",
      "42/62\n",
      "['int_time', 'int_date', 'int_day', 'temp']\n",
      "Test MAE: 3.146\n",
      "Test MSE: 20.279\n",
      "Test RMSE: 4.503\n",
      "Test R2: 0.358136087497323840622698298830\n",
      "\n",
      "43/62\n",
      "['int_time', 'int_date', 'rain', 'temp']\n",
      "Test MAE: 3.137\n",
      "Test MSE: 20.115\n",
      "Test RMSE: 4.485\n",
      "Test R2: 0.363300483735354617920165765099\n",
      "\n",
      "44/62\n",
      "['int_time', 'int_day', 'rain', 'temp']\n",
      "Test MAE: 3.188\n",
      "Test MSE: 20.629\n",
      "Test RMSE: 4.542\n",
      "Test R2: 0.347037133709223177824299000349\n",
      "\n",
      "45/62\n",
      "['int_date', 'int_day', 'rain', 'temp']\n",
      "Test MAE: 3.203\n",
      "Test MSE: 21.265\n",
      "Test RMSE: 4.611\n",
      "Test R2: 0.326918889897916398190602649265\n",
      "\n",
      "46/62\n",
      "['int_time', 'int_date', 'int_day', 'rhum']\n",
      "Test MAE: 3.191\n",
      "Test MSE: 20.549\n",
      "Test RMSE: 4.533\n",
      "Test R2: 0.349594286048329982996563103370\n",
      "\n",
      "47/62\n",
      "['int_time', 'int_date', 'rain', 'rhum']\n",
      "Test MAE: 3.143\n",
      "Test MSE: 19.598\n",
      "Test RMSE: 4.427\n",
      "Test R2: 0.379671134227084206003155486542\n",
      "\n",
      "48/62\n",
      "['int_time', 'int_day', 'rain', 'rhum']\n",
      "Test MAE: 3.152\n",
      "Test MSE: 21.040\n",
      "Test RMSE: 4.587\n",
      "Test R2: 0.334027978074072473546607398021\n",
      "\n",
      "49/62\n",
      "['int_date', 'int_day', 'rain', 'rhum']\n",
      "Test MAE: 3.094\n",
      "Test MSE: 19.565\n",
      "Test RMSE: 4.423\n",
      "Test R2: 0.380722804028878369919652868703\n",
      "\n",
      "50/62\n",
      "['int_time', 'int_date', 'temp', 'rhum']\n",
      "Test MAE: 3.220\n",
      "Test MSE: 21.421\n",
      "Test RMSE: 4.628\n",
      "Test R2: 0.321963717323109688273063966335\n",
      "\n",
      "51/62\n",
      "['int_time', 'int_day', 'temp', 'rhum']\n",
      "Test MAE: 3.205\n",
      "Test MSE: 20.977\n",
      "Test RMSE: 4.580\n",
      "Test R2: 0.336025545715880613606429960782\n",
      "\n",
      "52/62\n",
      "['int_date', 'int_day', 'temp', 'rhum']\n",
      "Test MAE: 3.185\n",
      "Test MSE: 20.606\n",
      "Test RMSE: 4.539\n",
      "Test R2: 0.347758850574539479794111684896\n",
      "\n",
      "53/62\n",
      "['int_time', 'rain', 'temp', 'rhum']\n",
      "Test MAE: 3.107\n",
      "Test MSE: 19.835\n",
      "Test RMSE: 4.454\n",
      "Test R2: 0.372176218196275887528656767245\n",
      "\n",
      "54/62\n",
      "['int_date', 'rain', 'temp', 'rhum']\n",
      "Test MAE: 3.075\n",
      "Test MSE: 19.401\n",
      "Test RMSE: 4.405\n",
      "Test R2: 0.385918441418584556856785638956\n",
      "\n",
      "55/62\n",
      "['int_day', 'rain', 'temp', 'rhum']\n",
      "Test MAE: 3.193\n",
      "Test MSE: 20.841\n",
      "Test RMSE: 4.565\n",
      "Test R2: 0.340320753659686836556375055807\n",
      "\n",
      "56/62\n",
      "['int_time', 'int_date', 'int_day', 'rain', 'temp']\n",
      "Test MAE: 3.196\n",
      "Test MSE: 20.779\n",
      "Test RMSE: 4.558\n",
      "Test R2: 0.342289357730834131743336001819\n",
      "\n",
      "57/62\n",
      "['int_time', 'int_date', 'int_day', 'rain', 'rhum']\n",
      "Test MAE: 3.216\n",
      "Test MSE: 21.375\n",
      "Test RMSE: 4.623\n",
      "Test R2: 0.323448818291491524412606395344\n",
      "\n",
      "58/62\n",
      "['int_time', 'int_date', 'int_day', 'temp', 'rhum']\n",
      "Test MAE: 3.144\n",
      "Test MSE: 20.175\n",
      "Test RMSE: 4.492\n",
      "Test R2: 0.361425238024761341648627421819\n",
      "\n",
      "59/62\n",
      "['int_time', 'int_date', 'rain', 'temp', 'rhum']\n",
      "Test MAE: 3.171\n",
      "Test MSE: 20.184\n",
      "Test RMSE: 4.493\n",
      "Test R2: 0.361142155913839801861797695892\n",
      "\n",
      "60/62\n",
      "['int_time', 'int_day', 'rain', 'temp', 'rhum']\n",
      "Test MAE: 3.144\n",
      "Test MSE: 20.022\n",
      "Test RMSE: 4.475\n",
      "Test R2: 0.366259303759232102137843867240\n",
      "\n",
      "61/62\n",
      "['int_date', 'int_day', 'rain', 'temp', 'rhum']\n",
      "Test MAE: 3.096\n",
      "Test MSE: 19.730\n",
      "Test RMSE: 4.442\n",
      "Test R2: 0.375494656713699970218556245527\n",
      "\n",
      "62/62\n",
      "['int_time', 'int_date', 'int_day', 'rain', 'temp', 'rhum']\n",
      "Test MAE: 3.257\n",
      "Test MSE: 21.245\n",
      "Test RMSE: 4.609\n",
      "Test R2: 0.327560075008239359739548035577\n",
      "\n"
     ]
    }
   ],
   "source": [
    "test_powersets()"
   ]
  },
  {
   "cell_type": "code",
   "execution_count": null,
   "id": "unavailable-environment",
   "metadata": {},
   "outputs": [],
   "source": []
  }
 ],
 "metadata": {
  "kernelspec": {
   "display_name": "local-venv",
   "language": "python",
   "name": "local-venv"
  },
  "language_info": {
   "codemirror_mode": {
    "name": "ipython",
    "version": 3
   },
   "file_extension": ".py",
   "mimetype": "text/x-python",
   "name": "python",
   "nbconvert_exporter": "python",
   "pygments_lexer": "ipython3",
   "version": "3.8.8"
  }
 },
 "nbformat": 4,
 "nbformat_minor": 5
}
