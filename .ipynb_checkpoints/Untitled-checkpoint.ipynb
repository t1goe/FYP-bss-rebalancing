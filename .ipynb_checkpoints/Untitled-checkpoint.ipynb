{
 "cells": [
  {
   "cell_type": "code",
   "execution_count": null,
   "id": "found-shape",
   "metadata": {},
   "outputs": [],
   "source": [
    "import pandas\n",
    "import matplotlib.pyplot as plt\n",
    "import data_dl\n",
    "\n",
    "data_dl.dublin_weather()\n",
    "data_dl.dublin_bss()"
   ]
  },
  {
   "cell_type": "code",
   "execution_count": null,
   "id": "informational-terminal",
   "metadata": {},
   "outputs": [],
   "source": [
    "def convert_time(x):\n",
    "    a = x.split(' ')\n",
    "    a = a[1].split(':')\n",
    "\n",
    "    ans = (int(a[0]) * 12) + (int(a[1]) / 5)\n",
    "\n",
    "    return ans"
   ]
  },
  {
   "cell_type": "code",
   "execution_count": null,
   "id": "sudden-intersection",
   "metadata": {},
   "outputs": [],
   "source": [
    "dataset = pandas.read_csv('./datasets/bss/dublin/dublinbikes_20200701_20201001.csv',\n",
    "                          usecols=['STATION ID', 'TIME', 'AVAILABLE BIKES'])\n",
    "dataset['INT_TIME'] = dataset['TIME'].apply(lambda x: convert_time(x))"
   ]
  },
  {
   "cell_type": "code",
   "execution_count": null,
   "id": "biblical-crossing",
   "metadata": {},
   "outputs": [],
   "source": [
    "for station in dataset['STATION ID'].unique():\n",
    "    print('Processing station' + str(station))\n",
    "    temp_dataset = dataset.drop(dataset[dataset['STATION ID'] != station].index)\n",
    "    temp_dataset = temp_dataset.head(288)\n",
    "    plt.plot(dataset['INT_TIME'], dataset['AVAILABLE BIKES'], label=(\"Station\") + str(station))"
   ]
  },
  {
   "cell_type": "code",
   "execution_count": null,
   "id": "nervous-status",
   "metadata": {},
   "outputs": [],
   "source": [
    "plt.xlabel('Time')\n",
    "plt.ylabel('Available bikes')\n",
    "\n",
    "plt.show()"
   ]
  },
  {
   "cell_type": "code",
   "execution_count": null,
   "id": "banner-reach",
   "metadata": {},
   "outputs": [],
   "source": []
  }
 ],
 "metadata": {
  "kernelspec": {
   "display_name": "Python 3",
   "language": "python",
   "name": "python3"
  },
  "language_info": {
   "codemirror_mode": {
    "name": "ipython",
    "version": 3
   },
   "file_extension": ".py",
   "mimetype": "text/x-python",
   "name": "python",
   "nbconvert_exporter": "python",
   "pygments_lexer": "ipython3",
   "version": "3.9.1"
  }
 },
 "nbformat": 4,
 "nbformat_minor": 5
}
